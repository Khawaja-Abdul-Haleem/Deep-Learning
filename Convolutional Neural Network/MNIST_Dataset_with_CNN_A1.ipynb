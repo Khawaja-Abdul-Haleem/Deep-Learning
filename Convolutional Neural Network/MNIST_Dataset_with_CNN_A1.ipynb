{
  "nbformat": 4,
  "nbformat_minor": 0,
  "metadata": {
    "colab": {
      "name": "MNIST Dataset with CNN_A1.ipynb",
      "provenance": [],
      "collapsed_sections": []
    },
    "kernelspec": {
      "name": "python3",
      "display_name": "Python 3"
    }
  },
  "cells": [
    {
      "cell_type": "code",
      "metadata": {
        "id": "nzOjAmqKwN-Q"
      },
      "source": [
        ""
      ],
      "execution_count": null,
      "outputs": []
    },
    {
      "cell_type": "code",
      "metadata": {
        "id": "4imWks0OnDo6"
      },
      "source": [
        "import numpy as np"
      ],
      "execution_count": 1,
      "outputs": []
    },
    {
      "cell_type": "code",
      "metadata": {
        "colab": {
          "base_uri": "https://localhost:8080/",
          "height": 0
        },
        "id": "hT7P-I7e7OZg",
        "outputId": "f44b2d7d-17c9-4a4a-eb5a-28451648c2db"
      },
      "source": [
        "np.version\r\n"
      ],
      "execution_count": 2,
      "outputs": [
        {
          "output_type": "execute_result",
          "data": {
            "text/plain": [
              "<module 'numpy.version' from '/usr/local/lib/python3.6/dist-packages/numpy/version.py'>"
            ]
          },
          "metadata": {
            "tags": []
          },
          "execution_count": 2
        }
      ]
    },
    {
      "cell_type": "code",
      "metadata": {
        "id": "6nERyksk7TxA"
      },
      "source": [
        "import tensorflow as tf"
      ],
      "execution_count": 3,
      "outputs": []
    },
    {
      "cell_type": "code",
      "metadata": {
        "id": "QSQxIZfJ7fdp"
      },
      "source": [
        "from keras.models import Sequential\r\n",
        "from keras.layers import Dense, Flatten\r\n",
        "from tensorflow.keras.layers import Conv2D\r\n",
        "from keras.datasets import mnist\r\n",
        "from keras.utils import to_categorical\r\n",
        "import matplotlib.pyplot as plt\r\n",
        "import numpy as np"
      ],
      "execution_count": 4,
      "outputs": []
    },
    {
      "cell_type": "code",
      "metadata": {
        "id": "2kVxZoI58Lxs",
        "colab": {
          "base_uri": "https://localhost:8080/",
          "height": 0
        },
        "outputId": "25786f2e-d866-4b77-d702-b0921d4b68c4"
      },
      "source": [
        "(trainX, trainy), (testX, testy) = mnist.load_data()"
      ],
      "execution_count": 5,
      "outputs": [
        {
          "output_type": "stream",
          "text": [
            "Downloading data from https://storage.googleapis.com/tensorflow/tf-keras-datasets/mnist.npz\n",
            "11493376/11490434 [==============================] - 0s 0us/step\n"
          ],
          "name": "stdout"
        }
      ]
    },
    {
      "cell_type": "code",
      "metadata": {
        "colab": {
          "base_uri": "https://localhost:8080/",
          "height": 0
        },
        "id": "uFxKDDJn8rxc",
        "outputId": "46bf16ab-086d-427c-8c9c-4fde77a28817"
      },
      "source": [
        "print(trainX.shape)\r\n",
        "print(testX.shape)"
      ],
      "execution_count": 6,
      "outputs": [
        {
          "output_type": "stream",
          "text": [
            "(60000, 28, 28)\n",
            "(10000, 28, 28)\n"
          ],
          "name": "stdout"
        }
      ]
    },
    {
      "cell_type": "code",
      "metadata": {
        "colab": {
          "base_uri": "https://localhost:8080/",
          "height": 0
        },
        "id": "aWJEtsxb85Uq",
        "outputId": "097ae87f-b72b-4281-da71-a50a5e9cecb2"
      },
      "source": [
        "trainX[0]"
      ],
      "execution_count": 7,
      "outputs": [
        {
          "output_type": "execute_result",
          "data": {
            "text/plain": [
              "array([[  0,   0,   0,   0,   0,   0,   0,   0,   0,   0,   0,   0,   0,\n",
              "          0,   0,   0,   0,   0,   0,   0,   0,   0,   0,   0,   0,   0,\n",
              "          0,   0],\n",
              "       [  0,   0,   0,   0,   0,   0,   0,   0,   0,   0,   0,   0,   0,\n",
              "          0,   0,   0,   0,   0,   0,   0,   0,   0,   0,   0,   0,   0,\n",
              "          0,   0],\n",
              "       [  0,   0,   0,   0,   0,   0,   0,   0,   0,   0,   0,   0,   0,\n",
              "          0,   0,   0,   0,   0,   0,   0,   0,   0,   0,   0,   0,   0,\n",
              "          0,   0],\n",
              "       [  0,   0,   0,   0,   0,   0,   0,   0,   0,   0,   0,   0,   0,\n",
              "          0,   0,   0,   0,   0,   0,   0,   0,   0,   0,   0,   0,   0,\n",
              "          0,   0],\n",
              "       [  0,   0,   0,   0,   0,   0,   0,   0,   0,   0,   0,   0,   0,\n",
              "          0,   0,   0,   0,   0,   0,   0,   0,   0,   0,   0,   0,   0,\n",
              "          0,   0],\n",
              "       [  0,   0,   0,   0,   0,   0,   0,   0,   0,   0,   0,   0,   3,\n",
              "         18,  18,  18, 126, 136, 175,  26, 166, 255, 247, 127,   0,   0,\n",
              "          0,   0],\n",
              "       [  0,   0,   0,   0,   0,   0,   0,   0,  30,  36,  94, 154, 170,\n",
              "        253, 253, 253, 253, 253, 225, 172, 253, 242, 195,  64,   0,   0,\n",
              "          0,   0],\n",
              "       [  0,   0,   0,   0,   0,   0,   0,  49, 238, 253, 253, 253, 253,\n",
              "        253, 253, 253, 253, 251,  93,  82,  82,  56,  39,   0,   0,   0,\n",
              "          0,   0],\n",
              "       [  0,   0,   0,   0,   0,   0,   0,  18, 219, 253, 253, 253, 253,\n",
              "        253, 198, 182, 247, 241,   0,   0,   0,   0,   0,   0,   0,   0,\n",
              "          0,   0],\n",
              "       [  0,   0,   0,   0,   0,   0,   0,   0,  80, 156, 107, 253, 253,\n",
              "        205,  11,   0,  43, 154,   0,   0,   0,   0,   0,   0,   0,   0,\n",
              "          0,   0],\n",
              "       [  0,   0,   0,   0,   0,   0,   0,   0,   0,  14,   1, 154, 253,\n",
              "         90,   0,   0,   0,   0,   0,   0,   0,   0,   0,   0,   0,   0,\n",
              "          0,   0],\n",
              "       [  0,   0,   0,   0,   0,   0,   0,   0,   0,   0,   0, 139, 253,\n",
              "        190,   2,   0,   0,   0,   0,   0,   0,   0,   0,   0,   0,   0,\n",
              "          0,   0],\n",
              "       [  0,   0,   0,   0,   0,   0,   0,   0,   0,   0,   0,  11, 190,\n",
              "        253,  70,   0,   0,   0,   0,   0,   0,   0,   0,   0,   0,   0,\n",
              "          0,   0],\n",
              "       [  0,   0,   0,   0,   0,   0,   0,   0,   0,   0,   0,   0,  35,\n",
              "        241, 225, 160, 108,   1,   0,   0,   0,   0,   0,   0,   0,   0,\n",
              "          0,   0],\n",
              "       [  0,   0,   0,   0,   0,   0,   0,   0,   0,   0,   0,   0,   0,\n",
              "         81, 240, 253, 253, 119,  25,   0,   0,   0,   0,   0,   0,   0,\n",
              "          0,   0],\n",
              "       [  0,   0,   0,   0,   0,   0,   0,   0,   0,   0,   0,   0,   0,\n",
              "          0,  45, 186, 253, 253, 150,  27,   0,   0,   0,   0,   0,   0,\n",
              "          0,   0],\n",
              "       [  0,   0,   0,   0,   0,   0,   0,   0,   0,   0,   0,   0,   0,\n",
              "          0,   0,  16,  93, 252, 253, 187,   0,   0,   0,   0,   0,   0,\n",
              "          0,   0],\n",
              "       [  0,   0,   0,   0,   0,   0,   0,   0,   0,   0,   0,   0,   0,\n",
              "          0,   0,   0,   0, 249, 253, 249,  64,   0,   0,   0,   0,   0,\n",
              "          0,   0],\n",
              "       [  0,   0,   0,   0,   0,   0,   0,   0,   0,   0,   0,   0,   0,\n",
              "          0,  46, 130, 183, 253, 253, 207,   2,   0,   0,   0,   0,   0,\n",
              "          0,   0],\n",
              "       [  0,   0,   0,   0,   0,   0,   0,   0,   0,   0,   0,   0,  39,\n",
              "        148, 229, 253, 253, 253, 250, 182,   0,   0,   0,   0,   0,   0,\n",
              "          0,   0],\n",
              "       [  0,   0,   0,   0,   0,   0,   0,   0,   0,   0,  24, 114, 221,\n",
              "        253, 253, 253, 253, 201,  78,   0,   0,   0,   0,   0,   0,   0,\n",
              "          0,   0],\n",
              "       [  0,   0,   0,   0,   0,   0,   0,   0,  23,  66, 213, 253, 253,\n",
              "        253, 253, 198,  81,   2,   0,   0,   0,   0,   0,   0,   0,   0,\n",
              "          0,   0],\n",
              "       [  0,   0,   0,   0,   0,   0,  18, 171, 219, 253, 253, 253, 253,\n",
              "        195,  80,   9,   0,   0,   0,   0,   0,   0,   0,   0,   0,   0,\n",
              "          0,   0],\n",
              "       [  0,   0,   0,   0,  55, 172, 226, 253, 253, 253, 253, 244, 133,\n",
              "         11,   0,   0,   0,   0,   0,   0,   0,   0,   0,   0,   0,   0,\n",
              "          0,   0],\n",
              "       [  0,   0,   0,   0, 136, 253, 253, 253, 212, 135, 132,  16,   0,\n",
              "          0,   0,   0,   0,   0,   0,   0,   0,   0,   0,   0,   0,   0,\n",
              "          0,   0],\n",
              "       [  0,   0,   0,   0,   0,   0,   0,   0,   0,   0,   0,   0,   0,\n",
              "          0,   0,   0,   0,   0,   0,   0,   0,   0,   0,   0,   0,   0,\n",
              "          0,   0],\n",
              "       [  0,   0,   0,   0,   0,   0,   0,   0,   0,   0,   0,   0,   0,\n",
              "          0,   0,   0,   0,   0,   0,   0,   0,   0,   0,   0,   0,   0,\n",
              "          0,   0],\n",
              "       [  0,   0,   0,   0,   0,   0,   0,   0,   0,   0,   0,   0,   0,\n",
              "          0,   0,   0,   0,   0,   0,   0,   0,   0,   0,   0,   0,   0,\n",
              "          0,   0]], dtype=uint8)"
            ]
          },
          "metadata": {
            "tags": []
          },
          "execution_count": 7
        }
      ]
    },
    {
      "cell_type": "code",
      "metadata": {
        "colab": {
          "base_uri": "https://localhost:8080/",
          "height": 0
        },
        "id": "8P1QZduY88fr",
        "outputId": "76ac663c-a118-4cf0-ce4c-2f9d8e27bb66"
      },
      "source": [
        "trainy[0]"
      ],
      "execution_count": 8,
      "outputs": [
        {
          "output_type": "execute_result",
          "data": {
            "text/plain": [
              "5"
            ]
          },
          "metadata": {
            "tags": []
          },
          "execution_count": 8
        }
      ]
    },
    {
      "cell_type": "code",
      "metadata": {
        "colab": {
          "base_uri": "https://localhost:8080/",
          "height": 282
        },
        "id": "i9Q3h3VD9CIk",
        "outputId": "d78522e7-1c19-4980-dbd4-46bc8cdc8750"
      },
      "source": [
        "plt.imshow(trainX[0])"
      ],
      "execution_count": 9,
      "outputs": [
        {
          "output_type": "execute_result",
          "data": {
            "text/plain": [
              "<matplotlib.image.AxesImage at 0x7f9245be3668>"
            ]
          },
          "metadata": {
            "tags": []
          },
          "execution_count": 9
        },
        {
          "output_type": "display_data",
          "data": {
            "image/png": "[encoded data removed]",
            "text/plain": [
              "<Figure size 432x288 with 1 Axes>"
            ]
          },
          "metadata": {
            "tags": [],
            "needs_background": "light"
          }
        }
      ]
    },
    {
      "cell_type": "code",
      "metadata": {
        "colab": {
          "base_uri": "https://localhost:8080/",
          "height": 282
        },
        "id": "sl0pyJaM9GyD",
        "outputId": "990c3037-d527-4bae-aaaf-5747a0f44e9c"
      },
      "source": [
        "plt.imshow(trainX[0], cmap='gray')"
      ],
      "execution_count": 10,
      "outputs": [
        {
          "output_type": "execute_result",
          "data": {
            "text/plain": [
              "<matplotlib.image.AxesImage at 0x7f9245b61828>"
            ]
          },
          "metadata": {
            "tags": []
          },
          "execution_count": 10
        },
        {
          "output_type": "display_data",
          "data": {
            "image/png": "[encoded data removed]",
            "text/plain": [
              "<Figure size 432x288 with 1 Axes>"
            ]
          },
          "metadata": {
            "tags": [],
            "needs_background": "light"
          }
        }
      ]
    },
    {
      "cell_type": "code",
      "metadata": {
        "id": "HCxaaRQz9MAT"
      },
      "source": [
        "trainX = trainX.reshape(60000, 28, 28, 1)\r\n",
        "testX = testX.reshape(10000, 28, 28, 1)\r\n"
      ],
      "execution_count": 11,
      "outputs": []
    },
    {
      "cell_type": "code",
      "metadata": {
        "id": "tLFkL47_9pKT"
      },
      "source": [
        "trainy_one_hot = to_categorical(trainy)\r\n",
        "testy_one_hot = to_categorical(testy)"
      ],
      "execution_count": 12,
      "outputs": []
    },
    {
      "cell_type": "code",
      "metadata": {
        "colab": {
          "base_uri": "https://localhost:8080/",
          "height": 0
        },
        "id": "Uy-_uzix94Bg",
        "outputId": "f1966a34-2644-412d-c941-db5b170c2bc6"
      },
      "source": [
        "print(trainy_one_hot[0])"
      ],
      "execution_count": 13,
      "outputs": [
        {
          "output_type": "stream",
          "text": [
            "[0. 0. 0. 0. 0. 1. 0. 0. 0. 0.]\n"
          ],
          "name": "stdout"
        }
      ]
    },
    {
      "cell_type": "code",
      "metadata": {
        "id": "rw3L2DqY97hr"
      },
      "source": [
        "from keras import layers\r\n",
        "#build the cnn model\r\n",
        "model = Sequential()\r\n",
        "model.add(layers.Conv2D(32, kernel_size=3, activation='relu', input_shape=(28,28,1)))\r\n",
        "model.add(layers.MaxPooling2D((2, 2)))\r\n",
        "model.add(layers.Conv2D(64, kernel_size=3, activation='relu'))\r\n",
        "model.add(layers.MaxPooling2D((2, 2)))\r\n",
        "model.add(layers.Conv2D(64, kernel_size=3, activation='relu'))\r\n",
        "model.add(Flatten())\r\n",
        "model.add(layers.Dense(64, activation='relu'))\r\n",
        "model.add(Dense(10, activation='softmax'))\r\n"
      ],
      "execution_count": 14,
      "outputs": []
    },
    {
      "cell_type": "code",
      "metadata": {
        "colab": {
          "base_uri": "https://localhost:8080/",
          "height": 0
        },
        "id": "0zJF4de0-ruO",
        "outputId": "8ba328ed-5c6f-4bcc-93dd-2fe4da62f6dd"
      },
      "source": [
        "model.summary()"
      ],
      "execution_count": 15,
      "outputs": [
        {
          "output_type": "stream",
          "text": [
            "Model: \"sequential\"\n",
            "_________________________________________________________________\n",
            "Layer (type)                 Output Shape              Param #   \n",
            "=================================================================\n",
            "conv2d (Conv2D)              (None, 26, 26, 32)        320       \n",
            "_________________________________________________________________\n",
            "max_pooling2d (MaxPooling2D) (None, 13, 13, 32)        0         \n",
            "_________________________________________________________________\n",
            "conv2d_1 (Conv2D)            (None, 11, 11, 64)        18496     \n",
            "_________________________________________________________________\n",
            "max_pooling2d_1 (MaxPooling2 (None, 5, 5, 64)          0         \n",
            "_________________________________________________________________\n",
            "conv2d_2 (Conv2D)            (None, 3, 3, 64)          36928     \n",
            "_________________________________________________________________\n",
            "flatten (Flatten)            (None, 576)               0         \n",
            "_________________________________________________________________\n",
            "dense (Dense)                (None, 64)                36928     \n",
            "_________________________________________________________________\n",
            "dense_1 (Dense)              (None, 10)                650       \n",
            "=================================================================\n",
            "Total params: 93,322\n",
            "Trainable params: 93,322\n",
            "Non-trainable params: 0\n",
            "_________________________________________________________________\n"
          ],
          "name": "stdout"
        }
      ]
    },
    {
      "cell_type": "code",
      "metadata": {
        "id": "DfL94Muo-v9j"
      },
      "source": [
        "train_images = trainX.reshape((60000, 28, 28, 1))\r\n",
        "train_images = trainX.astype('float32') / 255\r\n",
        "test_images = testX.reshape((10000, 28, 28, 1))\r\n",
        "test_images = testX.astype('float32') / 255\r\n",
        "train_labels = to_categorical(trainy)\r\n",
        "test_labels = to_categorical(testy)\r\n"
      ],
      "execution_count": 16,
      "outputs": []
    },
    {
      "cell_type": "code",
      "metadata": {
        "id": "GH7eD1fo-_kC"
      },
      "source": [
        "model.compile(optimizer='adam',loss='categorical_crossentropy',metrics=['accuracy'])"
      ],
      "execution_count": 17,
      "outputs": []
    },
    {
      "cell_type": "code",
      "metadata": {
        "colab": {
          "base_uri": "https://localhost:8080/",
          "height": 0
        },
        "id": "m6UF6yy-_LRc",
        "outputId": "59fd2df5-fb15-49e2-d49e-6902b4de67c6"
      },
      "source": [
        "model.fit(train_images,train_labels,epochs=5,batch_size=64)"
      ],
      "execution_count": 18,
      "outputs": [
        {
          "output_type": "stream",
          "text": [
            "Epoch 1/5\n",
            "938/938 [==============================] - 50s 52ms/step - loss: 0.3977 - accuracy: 0.8810\n",
            "Epoch 2/5\n",
            "938/938 [==============================] - 49s 53ms/step - loss: 0.0511 - accuracy: 0.9846\n",
            "Epoch 3/5\n",
            "938/938 [==============================] - 49s 53ms/step - loss: 0.0353 - accuracy: 0.9893\n",
            "Epoch 4/5\n",
            "938/938 [==============================] - 49s 52ms/step - loss: 0.0252 - accuracy: 0.9920\n",
            "Epoch 5/5\n",
            "938/938 [==============================] - 48s 52ms/step - loss: 0.0207 - accuracy: 0.9933\n"
          ],
          "name": "stdout"
        },
        {
          "output_type": "execute_result",
          "data": {
            "text/plain": [
              "<tensorflow.python.keras.callbacks.History at 0x7f9241742828>"
            ]
          },
          "metadata": {
            "tags": []
          },
          "execution_count": 18
        }
      ]
    },
    {
      "cell_type": "code",
      "metadata": {
        "colab": {
          "base_uri": "https://localhost:8080/",
          "height": 0
        },
        "id": "J4SeAyQk_N1S",
        "outputId": "505ed06b-82e6-46a3-a2df-eb6f66082707"
      },
      "source": [
        " test_loss,test_acc = model.evaluate(test_images, test_labels)"
      ],
      "execution_count": 19,
      "outputs": [
        {
          "output_type": "stream",
          "text": [
            "313/313 [==============================] - 3s 9ms/step - loss: 0.0315 - accuracy: 0.9903\n"
          ],
          "name": "stdout"
        }
      ]
    },
    {
      "cell_type": "code",
      "metadata": {
        "colab": {
          "base_uri": "https://localhost:8080/",
          "height": 0
        },
        "id": "9jQ0gxHJBE-1",
        "outputId": "54107531-ee3a-467e-86c0-df7be96b69cb"
      },
      "source": [
        "test_acc "
      ],
      "execution_count": 20,
      "outputs": [
        {
          "output_type": "execute_result",
          "data": {
            "text/plain": [
              "0.9902999997138977"
            ]
          },
          "metadata": {
            "tags": []
          },
          "execution_count": 20
        }
      ]
    },
    {
      "cell_type": "code",
      "metadata": {
        "colab": {
          "base_uri": "https://localhost:8080/",
          "height": 0
        },
        "id": "lnWpShSACefU",
        "outputId": "cbea1056-10c5-4bbe-d499-906fd78f837a"
      },
      "source": [
        "hist = model.fit(trainX,trainy_one_hot, validation_data=(testX, testy_one_hot), epochs=3)"
      ],
      "execution_count": 21,
      "outputs": [
        {
          "output_type": "stream",
          "text": [
            "Epoch 1/3\n",
            "1875/1875 [==============================] - 59s 31ms/step - loss: 1.0858 - accuracy: 0.9800 - val_loss: 0.2055 - val_accuracy: 0.9839\n",
            "Epoch 2/3\n",
            "1875/1875 [==============================] - 59s 31ms/step - loss: 0.0999 - accuracy: 0.9874 - val_loss: 0.1312 - val_accuracy: 0.9824\n",
            "Epoch 3/3\n",
            "1875/1875 [==============================] - 58s 31ms/step - loss: 0.0539 - accuracy: 0.9888 - val_loss: 0.1108 - val_accuracy: 0.9835\n"
          ],
          "name": "stdout"
        }
      ]
    },
    {
      "cell_type": "code",
      "metadata": {
        "id": "V8HjpUEYDrII",
        "colab": {
          "base_uri": "https://localhost:8080/",
          "height": 294
        },
        "outputId": "024fad56-41d8-404a-cf35-55fa6f7fec16"
      },
      "source": [
        "#visualization\r\n",
        "plt.plot(hist.history['accuracy'])\r\n",
        "plt.plot(hist.history['val_accuracy'])\r\n",
        "plt.title('Model Accutracy')\r\n",
        "plt.ylabel('Accuracy')\r\n",
        "plt.xlabel('Epoch')\r\n",
        "plt.legend(['Train', 'Val'],loc='upper left')\r\n",
        "plt.show()"
      ],
      "execution_count": 22,
      "outputs": [
        {
          "output_type": "display_data",
          "data": {
            "image/png": "[encoded data removed]",
            "text/plain": [
              "<Figure size 432x288 with 1 Axes>"
            ]
          },
          "metadata": {
            "tags": [],
            "needs_background": "light"
          }
        }
      ]
    },
    {
      "cell_type": "code",
      "metadata": {
        "id": "9hVK3UjcDsLP",
        "colab": {
          "base_uri": "https://localhost:8080/",
          "height": 0
        },
        "outputId": "2136575c-0c3a-40ae-8965-4e0708813b9b"
      },
      "source": [
        "#predictions as probabilites\r\n",
        "predictions = model.predict(testX[:5])\r\n",
        "predictions\r\n"
      ],
      "execution_count": 23,
      "outputs": [
        {
          "output_type": "execute_result",
          "data": {
            "text/plain": [
              "array([[1.17270236e-20, 1.17272503e-27, 9.91404224e-13, 7.28736588e-21,\n",
              "        2.48502444e-22, 2.16196516e-18, 5.63064457e-34, 1.00000000e+00,\n",
              "        4.30963825e-22, 8.19174203e-15],\n",
              "       [4.17890225e-33, 2.03892786e-25, 1.00000000e+00, 0.00000000e+00,\n",
              "        0.00000000e+00, 2.62314032e-35, 4.66639777e-28, 0.00000000e+00,\n",
              "        1.68861455e-27, 0.00000000e+00],\n",
              "       [4.46592383e-19, 9.99998927e-01, 4.95001479e-12, 4.23934052e-22,\n",
              "        1.07106714e-16, 2.54410626e-08, 1.19333756e-13, 4.63501195e-19,\n",
              "        1.04396668e-06, 1.15097749e-17],\n",
              "       [1.00000000e+00, 1.91779990e-26, 1.79863656e-22, 1.90146872e-25,\n",
              "        9.33560428e-26, 5.88152084e-17, 4.14711939e-13, 3.43683739e-28,\n",
              "        9.46314584e-25, 4.28099478e-23],\n",
              "       [0.00000000e+00, 9.27410801e-30, 3.59572035e-28, 0.00000000e+00,\n",
              "        1.00000000e+00, 8.85257173e-34, 1.78885995e-28, 0.00000000e+00,\n",
              "        1.57732230e-26, 4.34352378e-21]], dtype=float32)"
            ]
          },
          "metadata": {
            "tags": []
          },
          "execution_count": 23
        }
      ]
    },
    {
      "cell_type": "code",
      "metadata": {
        "id": "s5-ibVs6DuaJ",
        "colab": {
          "base_uri": "https://localhost:8080/",
          "height": 0
        },
        "outputId": "feedc401-be1f-4cba-fd8b-45ae22941958"
      },
      "source": [
        "#predictions as numbers labels\r\n",
        "import numpy as np\r\n",
        "print(np.argmax(predictions, axis=1))\r\n",
        "print(testy[:5])"
      ],
      "execution_count": 24,
      "outputs": [
        {
          "output_type": "stream",
          "text": [
            "[7 2 1 0 4]\n",
            "[7 2 1 0 4]\n"
          ],
          "name": "stdout"
        }
      ]
    },
    {
      "cell_type": "code",
      "metadata": {
        "id": "6p-7bxjRDwf1",
        "colab": {
          "base_uri": "https://localhost:8080/",
          "height": 1256
        },
        "outputId": "0685d20f-4731-4fd9-c710-93b5be8a5c1b"
      },
      "source": [
        "#visualization as images\r\n",
        "for i in range(0,5):\r\n",
        " image = testX[i]\r\n",
        " image = np.array(image, dtype='float')\r\n",
        " pixels = image.reshape((28,28))\r\n",
        " plt.imshow(pixels, cmap = 'gray')\r\n",
        " plt.show()"
      ],
      "execution_count": 25,
      "outputs": [
        {
          "output_type": "display_data",
          "data": {
            "image/png": "[encoded data removed]",
            "text/plain": [
              "<Figure size 432x288 with 1 Axes>"
            ]
          },
          "metadata": {
            "tags": [],
            "needs_background": "light"
          }
        },
        {
          "output_type": "display_data",
          "data": {
            "image/png": "[encoded data removed]",
            "text/plain": [
              "<Figure size 432x288 with 1 Axes>"
            ]
          },
          "metadata": {
            "tags": [],
            "needs_background": "light"
          }
        },
        {
          "output_type": "display_data",
          "data": {
            "image/png": "[encoded data removed]",
            "text/plain": [
              "<Figure size 432x288 with 1 Axes>"
            ]
          },
          "metadata": {
            "tags": [],
            "needs_background": "light"
          }
        },
        {
          "output_type": "display_data",
          "data": {
            "image/png": "[encoded data removed]",
            "text/plain": [
              "<Figure size 432x288 with 1 Axes>"
            ]
          },
          "metadata": {
            "tags": [],
            "needs_background": "light"
          }
        },
        {
          "output_type": "display_data",
          "data": {
            "image/png": "[encoded data removed]",
            "text/plain": [
              "<Figure size 432x288 with 1 Axes>"
            ]
          },
          "metadata": {
            "tags": [],
            "needs_background": "light"
          }
        }
      ]
    },
    {
      "cell_type": "code",
      "metadata": {
        "id": "aX2KTDVWDy3T"
      },
      "source": [
        "## Change_1"
      ],
      "execution_count": 26,
      "outputs": []
    },
    {
      "cell_type": "code",
      "metadata": {
        "id": "CJH20neCi2na"
      },
      "source": [
        "from keras import layers\r\n",
        "#build the cnn model\r\n",
        "model = Sequential()\r\n",
        "model.add(layers.Conv2D(64, kernel_size=3, activation='sigmoid', input_shape=(28,28,1)))\r\n",
        "model.add(layers.MaxPooling2D((2, 2)))\r\n",
        "model.add(layers.Conv2D(128, kernel_size=3, activation='sigmoid'))\r\n",
        "model.add(layers.MaxPooling2D((2, 2)))\r\n",
        "model.add(layers.Conv2D(128, kernel_size=3, activation='sigmoid'))\r\n",
        "model.add(Flatten())\r\n",
        "model.add(layers.Dense(128, activation='sigmoid'))\r\n",
        "model.add(Dense(10, activation='softmax'))\r\n"
      ],
      "execution_count": 27,
      "outputs": []
    },
    {
      "cell_type": "code",
      "metadata": {
        "id": "J_GKmVg9i2nr",
        "colab": {
          "base_uri": "https://localhost:8080/",
          "height": 0
        },
        "outputId": "6d52c923-18a0-4390-cf32-6281957718e6"
      },
      "source": [
        "model.summary()"
      ],
      "execution_count": 28,
      "outputs": [
        {
          "output_type": "stream",
          "text": [
            "Model: \"sequential_1\"\n",
            "_________________________________________________________________\n",
            "Layer (type)                 Output Shape              Param #   \n",
            "=================================================================\n",
            "conv2d_3 (Conv2D)            (None, 26, 26, 64)        640       \n",
            "_________________________________________________________________\n",
            "max_pooling2d_2 (MaxPooling2 (None, 13, 13, 64)        0         \n",
            "_________________________________________________________________\n",
            "conv2d_4 (Conv2D)            (None, 11, 11, 128)       73856     \n",
            "_________________________________________________________________\n",
            "max_pooling2d_3 (MaxPooling2 (None, 5, 5, 128)         0         \n",
            "_________________________________________________________________\n",
            "conv2d_5 (Conv2D)            (None, 3, 3, 128)         147584    \n",
            "_________________________________________________________________\n",
            "flatten_1 (Flatten)          (None, 1152)              0         \n",
            "_________________________________________________________________\n",
            "dense_2 (Dense)              (None, 128)               147584    \n",
            "_________________________________________________________________\n",
            "dense_3 (Dense)              (None, 10)                1290      \n",
            "=================================================================\n",
            "Total params: 370,954\n",
            "Trainable params: 370,954\n",
            "Non-trainable params: 0\n",
            "_________________________________________________________________\n"
          ],
          "name": "stdout"
        }
      ]
    },
    {
      "cell_type": "code",
      "metadata": {
        "id": "osm_Qivji2nu"
      },
      "source": [
        "train_images = trainX.reshape((60000, 28, 28, 1))\r\n",
        "train_images = trainX.astype('float32') / 255\r\n",
        "test_images = testX.reshape((10000, 28, 28, 1))\r\n",
        "test_images = testX.astype('float32') / 255\r\n",
        "train_labels = to_categorical(trainy)\r\n",
        "test_labels = to_categorical(testy)\r\n"
      ],
      "execution_count": 29,
      "outputs": []
    },
    {
      "cell_type": "code",
      "metadata": {
        "id": "Tz_1EoFvi2nu"
      },
      "source": [
        "model.compile(optimizer='adam',loss='categorical_crossentropy',metrics=['accuracy'])"
      ],
      "execution_count": 30,
      "outputs": []
    },
    {
      "cell_type": "code",
      "metadata": {
        "id": "0Rft9zIDi2nv",
        "colab": {
          "base_uri": "https://localhost:8080/",
          "height": 0
        },
        "outputId": "f6c8aab6-7c3f-4462-c5ad-aaaeb0efa710"
      },
      "source": [
        "model.fit(train_images,train_labels,epochs=5,batch_size=64)"
      ],
      "execution_count": 31,
      "outputs": [
        {
          "output_type": "stream",
          "text": [
            "Epoch 1/5\n",
            "938/938 [==============================] - 140s 148ms/step - loss: 1.5571 - accuracy: 0.4234\n",
            "Epoch 2/5\n",
            "938/938 [==============================] - 139s 148ms/step - loss: 0.1094 - accuracy: 0.9687\n",
            "Epoch 3/5\n",
            "938/938 [==============================] - 137s 146ms/step - loss: 0.0645 - accuracy: 0.9800\n",
            "Epoch 4/5\n",
            "938/938 [==============================] - 139s 148ms/step - loss: 0.0481 - accuracy: 0.9851\n",
            "Epoch 5/5\n",
            "938/938 [==============================] - 139s 148ms/step - loss: 0.0352 - accuracy: 0.9894\n"
          ],
          "name": "stdout"
        },
        {
          "output_type": "execute_result",
          "data": {
            "text/plain": [
              "<tensorflow.python.keras.callbacks.History at 0x7f923d2486a0>"
            ]
          },
          "metadata": {
            "tags": []
          },
          "execution_count": 31
        }
      ]
    },
    {
      "cell_type": "code",
      "metadata": {
        "id": "2JPFNEbmi2nw",
        "colab": {
          "base_uri": "https://localhost:8080/",
          "height": 0
        },
        "outputId": "efe2b074-3e4e-4b4b-d600-16c1a76ee378"
      },
      "source": [
        " test_loss,test_acc = model.evaluate(test_images, test_labels)"
      ],
      "execution_count": 32,
      "outputs": [
        {
          "output_type": "stream",
          "text": [
            "313/313 [==============================] - 6s 18ms/step - loss: 0.0375 - accuracy: 0.9867\n"
          ],
          "name": "stdout"
        }
      ]
    },
    {
      "cell_type": "code",
      "metadata": {
        "id": "f-tmZL9qi2nx",
        "colab": {
          "base_uri": "https://localhost:8080/",
          "height": 0
        },
        "outputId": "287df27d-db40-4da4-f97d-c8f30a8b6f6e"
      },
      "source": [
        "test_acc "
      ],
      "execution_count": 33,
      "outputs": [
        {
          "output_type": "execute_result",
          "data": {
            "text/plain": [
              "0.9866999983787537"
            ]
          },
          "metadata": {
            "tags": []
          },
          "execution_count": 33
        }
      ]
    },
    {
      "cell_type": "code",
      "metadata": {
        "id": "5tMnf4Pxi2nx",
        "colab": {
          "base_uri": "https://localhost:8080/",
          "height": 0
        },
        "outputId": "198c0143-dcae-4f5d-d240-7293be9b03bd"
      },
      "source": [
        "hist = model.fit(trainX,trainy_one_hot, validation_data=(testX, testy_one_hot), epochs=3)"
      ],
      "execution_count": 34,
      "outputs": [
        {
          "output_type": "stream",
          "text": [
            "Epoch 1/3\n",
            "1875/1875 [==============================] - 157s 84ms/step - loss: 0.0582 - accuracy: 0.9812 - val_loss: 0.0356 - val_accuracy: 0.9884\n",
            "Epoch 2/3\n",
            "1875/1875 [==============================] - 152s 81ms/step - loss: 0.0335 - accuracy: 0.9892 - val_loss: 0.0354 - val_accuracy: 0.9885\n",
            "Epoch 3/3\n",
            "1875/1875 [==============================] - 151s 81ms/step - loss: 0.0249 - accuracy: 0.9921 - val_loss: 0.0370 - val_accuracy: 0.9884\n"
          ],
          "name": "stdout"
        }
      ]
    },
    {
      "cell_type": "code",
      "metadata": {
        "id": "Nxq9b0Kdi2ny",
        "colab": {
          "base_uri": "https://localhost:8080/",
          "height": 294
        },
        "outputId": "8d65b360-8c17-41e0-bef6-d74b06532d54"
      },
      "source": [
        "#visualization\r\n",
        "plt.plot(hist.history['accuracy'])\r\n",
        "plt.plot(hist.history['val_accuracy'])\r\n",
        "plt.title('Model Accutracy')\r\n",
        "plt.ylabel('Accuracy')\r\n",
        "plt.xlabel('Epoch')\r\n",
        "plt.legend(['Train', 'Val'],loc='upper left')\r\n",
        "plt.show()"
      ],
      "execution_count": 35,
      "outputs": [
        {
          "output_type": "display_data",
          "data": {
            "image/png": "[encoded data removed]",
            "text/plain": [
              "<Figure size 432x288 with 1 Axes>"
            ]
          },
          "metadata": {
            "tags": [],
            "needs_background": "light"
          }
        }
      ]
    },
    {
      "cell_type": "code",
      "metadata": {
        "id": "d4Oh6ymLi2nz",
        "colab": {
          "base_uri": "https://localhost:8080/",
          "height": 0
        },
        "outputId": "1e5bc235-8318-4aed-8beb-f8640a1fc913"
      },
      "source": [
        "#predictions as probabilites\r\n",
        "predictions = model.predict(testX[:5])\r\n",
        "predictions\r\n"
      ],
      "execution_count": 36,
      "outputs": [
        {
          "output_type": "execute_result",
          "data": {
            "text/plain": [
              "array([[2.6073278e-07, 3.5849719e-06, 1.3378539e-05, 4.1119824e-06,\n",
              "        2.3556763e-06, 2.4856294e-07, 4.3704329e-10, 9.9996591e-01,\n",
              "        4.4290388e-07, 9.7856800e-06],\n",
              "       [2.8846548e-06, 5.7455158e-04, 9.9936038e-01, 1.7283402e-05,\n",
              "        8.5217636e-07, 3.7854824e-07, 1.8618277e-05, 8.1905654e-07,\n",
              "        2.4255638e-05, 1.5357882e-08],\n",
              "       [2.4960181e-08, 9.9998784e-01, 3.5652633e-07, 1.7411436e-07,\n",
              "        1.8338555e-06, 2.7896382e-07, 1.8246376e-06, 2.9787373e-06,\n",
              "        4.6556625e-06, 1.3565732e-07],\n",
              "       [9.9343610e-01, 1.7261707e-06, 1.7141487e-05, 9.7711404e-07,\n",
              "        1.1024632e-06, 3.2923410e-05, 6.4772135e-03, 3.9177035e-06,\n",
              "        1.6242393e-05, 1.2693395e-05],\n",
              "       [1.5043171e-06, 6.2990682e-07, 2.6060600e-06, 1.0681024e-07,\n",
              "        9.9982041e-01, 8.3668745e-08, 2.5842558e-06, 9.9549121e-05,\n",
              "        1.4467606e-06, 7.0977978e-05]], dtype=float32)"
            ]
          },
          "metadata": {
            "tags": []
          },
          "execution_count": 36
        }
      ]
    },
    {
      "cell_type": "code",
      "metadata": {
        "id": "M3PbLiwpi2n0",
        "colab": {
          "base_uri": "https://localhost:8080/",
          "height": 0
        },
        "outputId": "9e3b1f5f-811e-4262-ca0b-088598503af7"
      },
      "source": [
        "#predictions as numbers labels\r\n",
        "import numpy as np\r\n",
        "print(np.argmax(predictions, axis=1))\r\n",
        "print(testy[:5])"
      ],
      "execution_count": 37,
      "outputs": [
        {
          "output_type": "stream",
          "text": [
            "[7 2 1 0 4]\n",
            "[7 2 1 0 4]\n"
          ],
          "name": "stdout"
        }
      ]
    },
    {
      "cell_type": "code",
      "metadata": {
        "id": "-egA3vwei2n1",
        "colab": {
          "base_uri": "https://localhost:8080/",
          "height": 1256
        },
        "outputId": "101d7bd2-4ff7-4839-b545-c5699d8bbef4"
      },
      "source": [
        "#visualization as images\r\n",
        "for i in range(0,5):\r\n",
        " image = testX[i]\r\n",
        " image = np.array(image, dtype='float')\r\n",
        " pixels = image.reshape((28,28))\r\n",
        " plt.imshow(pixels, cmap = 'gray')\r\n",
        " plt.show()"
      ],
      "execution_count": 38,
      "outputs": [
        {
          "output_type": "display_data",
          "data": {
            "image/png": "[encoded data removed]",
            "text/plain": [
              "<Figure size 432x288 with 1 Axes>"
            ]
          },
          "metadata": {
            "tags": [],
            "needs_background": "light"
          }
        },
        {
          "output_type": "display_data",
          "data": {
            "image/png": "[encoded data removed]",
            "text/plain": [
              "<Figure size 432x288 with 1 Axes>"
            ]
          },
          "metadata": {
            "tags": [],
            "needs_background": "light"
          }
        },
        {
          "output_type": "display_data",
          "data": {
            "image/png": "[encoded data removed]",
            "text/plain": [
              "<Figure size 432x288 with 1 Axes>"
            ]
          },
          "metadata": {
            "tags": [],
            "needs_background": "light"
          }
        },
        {
          "output_type": "display_data",
          "data": {
            "image/png": "[encoded data removed]",
            "text/plain": [
              "<Figure size 432x288 with 1 Axes>"
            ]
          },
          "metadata": {
            "tags": [],
            "needs_background": "light"
          }
        },
        {
          "output_type": "display_data",
          "data": {
            "image/png": "[encoded data removed]",
            "text/plain": [
              "<Figure size 432x288 with 1 Axes>"
            ]
          },
          "metadata": {
            "tags": [],
            "needs_background": "light"
          }
        }
      ]
    },
    {
      "cell_type": "code",
      "metadata": {
        "id": "SHjJyAmojVaB"
      },
      "source": [
        "## Change_2"
      ],
      "execution_count": 39,
      "outputs": []
    },
    {
      "cell_type": "code",
      "metadata": {
        "id": "-k0pwhPCjlqP"
      },
      "source": [
        "from keras import layers\r\n",
        "#build the cnn model\r\n",
        "model = Sequential()\r\n",
        "model.add(layers.Conv2D(64, kernel_size=3, activation='relu', input_shape=(28,28,1)))\r\n",
        "model.add(layers.MaxPooling2D((2, 2)))\r\n",
        "model.add(layers.Conv2D(128, kernel_size=3, activation='sigmoid'))\r\n",
        "model.add(layers.MaxPooling2D((2, 2)))\r\n",
        "model.add(layers.Conv2D(128, kernel_size=3, activation='sigmoid'))\r\n",
        "model.add(Flatten())\r\n",
        "model.add(layers.Dense(64, activation='relu'))\r\n",
        "model.add(Dense(10, activation='softmax'))\r\n"
      ],
      "execution_count": 40,
      "outputs": []
    },
    {
      "cell_type": "code",
      "metadata": {
        "id": "B6I_odW8jlqU",
        "colab": {
          "base_uri": "https://localhost:8080/",
          "height": 0
        },
        "outputId": "3a5ddf3c-9e2d-4596-8432-e0782da0b4b1"
      },
      "source": [
        "model.summary()"
      ],
      "execution_count": 41,
      "outputs": [
        {
          "output_type": "stream",
          "text": [
            "Model: \"sequential_2\"\n",
            "_________________________________________________________________\n",
            "Layer (type)                 Output Shape              Param #   \n",
            "=================================================================\n",
            "conv2d_6 (Conv2D)            (None, 26, 26, 64)        640       \n",
            "_________________________________________________________________\n",
            "max_pooling2d_4 (MaxPooling2 (None, 13, 13, 64)        0         \n",
            "_________________________________________________________________\n",
            "conv2d_7 (Conv2D)            (None, 11, 11, 128)       73856     \n",
            "_________________________________________________________________\n",
            "max_pooling2d_5 (MaxPooling2 (None, 5, 5, 128)         0         \n",
            "_________________________________________________________________\n",
            "conv2d_8 (Conv2D)            (None, 3, 3, 128)         147584    \n",
            "_________________________________________________________________\n",
            "flatten_2 (Flatten)          (None, 1152)              0         \n",
            "_________________________________________________________________\n",
            "dense_4 (Dense)              (None, 64)                73792     \n",
            "_________________________________________________________________\n",
            "dense_5 (Dense)              (None, 10)                650       \n",
            "=================================================================\n",
            "Total params: 296,522\n",
            "Trainable params: 296,522\n",
            "Non-trainable params: 0\n",
            "_________________________________________________________________\n"
          ],
          "name": "stdout"
        }
      ]
    },
    {
      "cell_type": "code",
      "metadata": {
        "id": "UAZKFPE7jlqW"
      },
      "source": [
        "train_images = trainX.reshape((60000, 28, 28, 1))\r\n",
        "train_images = trainX.astype('float32') / 255\r\n",
        "test_images = testX.reshape((10000, 28, 28, 1))\r\n",
        "test_images = testX.astype('float32') / 255\r\n",
        "train_labels = to_categorical(trainy)\r\n",
        "test_labels = to_categorical(testy)\r\n"
      ],
      "execution_count": 42,
      "outputs": []
    },
    {
      "cell_type": "code",
      "metadata": {
        "id": "V7jAhwP1jlqX"
      },
      "source": [
        "model.compile(optimizer='adam',loss='categorical_crossentropy',metrics=['accuracy'])"
      ],
      "execution_count": 43,
      "outputs": []
    },
    {
      "cell_type": "code",
      "metadata": {
        "id": "g-53QovFjlqZ",
        "colab": {
          "base_uri": "https://localhost:8080/",
          "height": 0
        },
        "outputId": "b036e372-0fd1-4b92-c6d5-a2cb7f1e3f35"
      },
      "source": [
        "model.fit(train_images,train_labels,epochs=5,batch_size=64)"
      ],
      "execution_count": 44,
      "outputs": [
        {
          "output_type": "stream",
          "text": [
            "Epoch 1/5\n",
            "938/938 [==============================] - 138s 146ms/step - loss: 1.0952 - accuracy: 0.6231\n",
            "Epoch 2/5\n",
            "938/938 [==============================] - 135s 144ms/step - loss: 0.0768 - accuracy: 0.9770\n",
            "Epoch 3/5\n",
            "938/938 [==============================] - 136s 145ms/step - loss: 0.0527 - accuracy: 0.9844\n",
            "Epoch 4/5\n",
            "938/938 [==============================] - 137s 146ms/step - loss: 0.0374 - accuracy: 0.9884\n",
            "Epoch 5/5\n",
            "938/938 [==============================] - 136s 145ms/step - loss: 0.0303 - accuracy: 0.9903\n"
          ],
          "name": "stdout"
        },
        {
          "output_type": "execute_result",
          "data": {
            "text/plain": [
              "<tensorflow.python.keras.callbacks.History at 0x7f923de89400>"
            ]
          },
          "metadata": {
            "tags": []
          },
          "execution_count": 44
        }
      ]
    },
    {
      "cell_type": "code",
      "metadata": {
        "id": "oSVKfgjWuHll"
      },
      "source": [
        ""
      ],
      "execution_count": 44,
      "outputs": []
    },
    {
      "cell_type": "code",
      "metadata": {
        "id": "zNXtgpFqjlqa",
        "colab": {
          "base_uri": "https://localhost:8080/",
          "height": 0
        },
        "outputId": "a204337f-bf13-4e42-c2e8-a2f898b4fbdc"
      },
      "source": [
        " test_loss,test_acc = model.evaluate(test_images, test_labels)"
      ],
      "execution_count": 45,
      "outputs": [
        {
          "output_type": "stream",
          "text": [
            "313/313 [==============================] - 5s 16ms/step - loss: 0.0384 - accuracy: 0.9878\n"
          ],
          "name": "stdout"
        }
      ]
    },
    {
      "cell_type": "code",
      "metadata": {
        "id": "xOxr-io8jlqb",
        "colab": {
          "base_uri": "https://localhost:8080/",
          "height": 0
        },
        "outputId": "7e868eb0-46d4-40cc-b313-c581526f3ebd"
      },
      "source": [
        "test_acc "
      ],
      "execution_count": 46,
      "outputs": [
        {
          "output_type": "execute_result",
          "data": {
            "text/plain": [
              "0.9878000020980835"
            ]
          },
          "metadata": {
            "tags": []
          },
          "execution_count": 46
        }
      ]
    },
    {
      "cell_type": "code",
      "metadata": {
        "id": "qFHOkX9yjlqd",
        "colab": {
          "base_uri": "https://localhost:8080/",
          "height": 0
        },
        "outputId": "93e949d2-62c5-4817-c882-3102986f6f4f"
      },
      "source": [
        "hist = model.fit(trainX,trainy_one_hot, validation_data=(testX, testy_one_hot), epochs=3)"
      ],
      "execution_count": 47,
      "outputs": [
        {
          "output_type": "stream",
          "text": [
            "Epoch 1/3\n",
            "1875/1875 [==============================] - 148s 79ms/step - loss: 0.0927 - accuracy: 0.9710 - val_loss: 0.0701 - val_accuracy: 0.9773\n",
            "Epoch 2/3\n",
            "1875/1875 [==============================] - 150s 80ms/step - loss: 0.0663 - accuracy: 0.9788 - val_loss: 0.0461 - val_accuracy: 0.9853\n",
            "Epoch 3/3\n",
            "1875/1875 [==============================] - 148s 79ms/step - loss: 0.0656 - accuracy: 0.9795 - val_loss: 0.0574 - val_accuracy: 0.9802\n"
          ],
          "name": "stdout"
        }
      ]
    },
    {
      "cell_type": "code",
      "metadata": {
        "id": "hpQsMmL0jlqe",
        "colab": {
          "base_uri": "https://localhost:8080/",
          "height": 294
        },
        "outputId": "1ba7fff2-ea51-461e-fba9-54c794a49ec3"
      },
      "source": [
        "#visualization\r\n",
        "plt.plot(hist.history['accuracy'])\r\n",
        "plt.plot(hist.history['val_accuracy'])\r\n",
        "plt.title('Model Accutracy')\r\n",
        "plt.ylabel('Accuracy')\r\n",
        "plt.xlabel('Epoch')\r\n",
        "plt.legend(['Train', 'Val'],loc='upper left')\r\n",
        "plt.show()"
      ],
      "execution_count": 48,
      "outputs": [
        {
          "output_type": "display_data",
          "data": {
            "image/png": "[encoded data removed]",
            "text/plain": [
              "<Figure size 432x288 with 1 Axes>"
            ]
          },
          "metadata": {
            "tags": [],
            "needs_background": "light"
          }
        }
      ]
    },
    {
      "cell_type": "code",
      "metadata": {
        "id": "8hB1Ioc5jlqf",
        "colab": {
          "base_uri": "https://localhost:8080/",
          "height": 0
        },
        "outputId": "7cdd99c0-4c15-493d-fe7b-642c7fd9047e"
      },
      "source": [
        "#predictions as probabilites\r\n",
        "predictions = model.predict(testX[:5])\r\n",
        "predictions\r\n"
      ],
      "execution_count": 49,
      "outputs": [
        {
          "output_type": "execute_result",
          "data": {
            "text/plain": [
              "array([[8.94370267e-09, 6.19246663e-08, 8.41123983e-06, 4.42046576e-06,\n",
              "        2.75942824e-07, 4.76391229e-08, 4.59775273e-12, 9.99984741e-01,\n",
              "        1.79360370e-07, 1.81787891e-06],\n",
              "       [3.89534456e-04, 1.83285942e-04, 9.99018669e-01, 5.48150683e-06,\n",
              "        1.77209500e-07, 2.42864758e-07, 7.28769510e-06, 4.47020175e-05,\n",
              "        3.50693706e-04, 1.00977715e-08],\n",
              "       [3.82959479e-06, 9.99812186e-01, 1.93534262e-07, 2.50846472e-08,\n",
              "        1.04982355e-04, 3.44836303e-06, 4.38473762e-05, 7.71568830e-06,\n",
              "        3.73218404e-06, 2.00507584e-05],\n",
              "       [9.95705545e-01, 1.70949124e-06, 2.23413086e-03, 1.37486643e-06,\n",
              "        1.21056173e-05, 5.59428772e-05, 2.15307358e-04, 1.24518573e-03,\n",
              "        6.95972776e-05, 4.59135976e-04],\n",
              "       [1.11184555e-07, 6.38144071e-09, 6.38812082e-07, 6.66930788e-10,\n",
              "        9.99842763e-01, 1.63082028e-08, 9.87428166e-07, 7.02445035e-08,\n",
              "        1.82889153e-06, 1.53496672e-04]], dtype=float32)"
            ]
          },
          "metadata": {
            "tags": []
          },
          "execution_count": 49
        }
      ]
    },
    {
      "cell_type": "code",
      "metadata": {
        "id": "0GIJvfrKjlqg",
        "colab": {
          "base_uri": "https://localhost:8080/",
          "height": 0
        },
        "outputId": "bae8871a-12ed-46ed-99a7-6757a8db8e6f"
      },
      "source": [
        "#predictions as numbers labels\r\n",
        "import numpy as np\r\n",
        "print(np.argmax(predictions, axis=1))\r\n",
        "print(testy[:5])"
      ],
      "execution_count": 50,
      "outputs": [
        {
          "output_type": "stream",
          "text": [
            "[7 2 1 0 4]\n",
            "[7 2 1 0 4]\n"
          ],
          "name": "stdout"
        }
      ]
    },
    {
      "cell_type": "code",
      "metadata": {
        "id": "uxZQDw1Bjlqh",
        "colab": {
          "base_uri": "https://localhost:8080/",
          "height": 1256
        },
        "outputId": "24035bbd-b5bc-4c1d-82d2-aebeaf3d2a49"
      },
      "source": [
        "#visualization as images\r\n",
        "for i in range(0,5):\r\n",
        " image = testX[i]\r\n",
        " image = np.array(image, dtype='float')\r\n",
        " pixels = image.reshape((28,28))\r\n",
        " plt.imshow(pixels, cmap = 'gray')\r\n",
        " plt.show()"
      ],
      "execution_count": 51,
      "outputs": [
        {
          "output_type": "display_data",
          "data": {
            "image/png": "[encoded data removed]",
            "text/plain": [
              "<Figure size 432x288 with 1 Axes>"
            ]
          },
          "metadata": {
            "tags": [],
            "needs_background": "light"
          }
        },
        {
          "output_type": "display_data",
          "data": {
            "image/png": "[encoded data removed]",
            "text/plain": [
              "<Figure size 432x288 with 1 Axes>"
            ]
          },
          "metadata": {
            "tags": [],
            "needs_background": "light"
          }
        },
        {
          "output_type": "display_data",
          "data": {
            "image/png": "[encoded data removed]",
            "text/plain": [
              "<Figure size 432x288 with 1 Axes>"
            ]
          },
          "metadata": {
            "tags": [],
            "needs_background": "light"
          }
        },
        {
          "output_type": "display_data",
          "data": {
            "image/png": "[encoded data removed]",
            "text/plain": [
              "<Figure size 432x288 with 1 Axes>"
            ]
          },
          "metadata": {
            "tags": [],
            "needs_background": "light"
          }
        },
        {
          "output_type": "display_data",
          "data": {
            "image/png": "[encoded data removed]",
            "text/plain": [
              "<Figure size 432x288 with 1 Axes>"
            ]
          },
          "metadata": {
            "tags": [],
            "needs_background": "light"
          }
        }
      ]
    },
    {
      "cell_type": "code",
      "metadata": {
        "id": "Ah6CIMw8kYn1"
      },
      "source": [
        "## Change_3"
      ],
      "execution_count": 52,
      "outputs": []
    },
    {
      "cell_type": "code",
      "metadata": {
        "id": "NDTvpuaYkazy"
      },
      "source": [
        "from keras import layers\r\n",
        "#build the cnn model\r\n",
        "model = Sequential()\r\n",
        "model.add(layers.Conv2D(64, kernel_size=3, activation='sigmoid', input_shape=(28,28,1)))\r\n",
        "model.add(layers.MaxPooling2D((2, 2)))\r\n",
        "model.add(layers.Conv2D(128, kernel_size=3, activation='relu'))\r\n",
        "model.add(layers.MaxPooling2D((2, 2)))\r\n",
        "model.add(layers.Conv2D(128, kernel_size=3, activation='relu'))\r\n",
        "model.add(Flatten())\r\n",
        "model.add(layers.Dense(64, activation='sigmoid'))\r\n",
        "model.add(Dense(10, activation='softmax'))\r\n"
      ],
      "execution_count": 53,
      "outputs": []
    },
    {
      "cell_type": "code",
      "metadata": {
        "id": "dCffPEhOka0G",
        "colab": {
          "base_uri": "https://localhost:8080/",
          "height": 0
        },
        "outputId": "589d60f8-4cc6-4aad-f5c4-9b2cb6d72a49"
      },
      "source": [
        "model.summary()"
      ],
      "execution_count": 54,
      "outputs": [
        {
          "output_type": "stream",
          "text": [
            "Model: \"sequential_3\"\n",
            "_________________________________________________________________\n",
            "Layer (type)                 Output Shape              Param #   \n",
            "=================================================================\n",
            "conv2d_9 (Conv2D)            (None, 26, 26, 64)        640       \n",
            "_________________________________________________________________\n",
            "max_pooling2d_6 (MaxPooling2 (None, 13, 13, 64)        0         \n",
            "_________________________________________________________________\n",
            "conv2d_10 (Conv2D)           (None, 11, 11, 128)       73856     \n",
            "_________________________________________________________________\n",
            "max_pooling2d_7 (MaxPooling2 (None, 5, 5, 128)         0         \n",
            "_________________________________________________________________\n",
            "conv2d_11 (Conv2D)           (None, 3, 3, 128)         147584    \n",
            "_________________________________________________________________\n",
            "flatten_3 (Flatten)          (None, 1152)              0         \n",
            "_________________________________________________________________\n",
            "dense_6 (Dense)              (None, 64)                73792     \n",
            "_________________________________________________________________\n",
            "dense_7 (Dense)              (None, 10)                650       \n",
            "=================================================================\n",
            "Total params: 296,522\n",
            "Trainable params: 296,522\n",
            "Non-trainable params: 0\n",
            "_________________________________________________________________\n"
          ],
          "name": "stdout"
        }
      ]
    },
    {
      "cell_type": "code",
      "metadata": {
        "id": "I3JGrtneka0J"
      },
      "source": [
        "train_images = trainX.reshape((60000, 28, 28, 1))\r\n",
        "train_images = trainX.astype('float32') / 255\r\n",
        "test_images = testX.reshape((10000, 28, 28, 1))\r\n",
        "test_images = testX.astype('float32') / 255\r\n",
        "train_labels = to_categorical(trainy)\r\n",
        "test_labels = to_categorical(testy)\r\n"
      ],
      "execution_count": 55,
      "outputs": []
    },
    {
      "cell_type": "code",
      "metadata": {
        "id": "zgCANgSUka0K"
      },
      "source": [
        "model.compile(optimizer='adam',loss='categorical_crossentropy',metrics=['accuracy'])"
      ],
      "execution_count": 56,
      "outputs": []
    },
    {
      "cell_type": "code",
      "metadata": {
        "id": "T3hOGummka0L",
        "colab": {
          "base_uri": "https://localhost:8080/",
          "height": 0
        },
        "outputId": "35faf960-97a9-4728-c63b-485d8e9de9cb"
      },
      "source": [
        "model.fit(train_images,train_labels,epochs=5,batch_size=64)"
      ],
      "execution_count": 57,
      "outputs": [
        {
          "output_type": "stream",
          "text": [
            "Epoch 1/5\n",
            "938/938 [==============================] - 134s 142ms/step - loss: 1.3421 - accuracy: 0.5308\n",
            "Epoch 2/5\n",
            "938/938 [==============================] - 133s 142ms/step - loss: 0.1391 - accuracy: 0.9595\n",
            "Epoch 3/5\n",
            "938/938 [==============================] - 134s 143ms/step - loss: 0.0862 - accuracy: 0.9755\n",
            "Epoch 4/5\n",
            "938/938 [==============================] - 135s 144ms/step - loss: 0.0638 - accuracy: 0.9807\n",
            "Epoch 5/5\n",
            "938/938 [==============================] - 134s 143ms/step - loss: 0.0488 - accuracy: 0.9856\n"
          ],
          "name": "stdout"
        },
        {
          "output_type": "execute_result",
          "data": {
            "text/plain": [
              "<tensorflow.python.keras.callbacks.History at 0x7f9237afc4e0>"
            ]
          },
          "metadata": {
            "tags": []
          },
          "execution_count": 57
        }
      ]
    },
    {
      "cell_type": "code",
      "metadata": {
        "id": "Nd-P7l2Yka0M",
        "colab": {
          "base_uri": "https://localhost:8080/",
          "height": 0
        },
        "outputId": "7ea908bd-5b66-4045-9829-35aac15e4c4c"
      },
      "source": [
        " test_loss,test_acc = model.evaluate(test_images, test_labels)"
      ],
      "execution_count": 58,
      "outputs": [
        {
          "output_type": "stream",
          "text": [
            "313/313 [==============================] - 5s 16ms/step - loss: 0.0538 - accuracy: 0.9831\n"
          ],
          "name": "stdout"
        }
      ]
    },
    {
      "cell_type": "code",
      "metadata": {
        "id": "V76Dpc80ka0N",
        "colab": {
          "base_uri": "https://localhost:8080/",
          "height": 0
        },
        "outputId": "4c862e7d-f110-4362-f0d0-eb06f02c434e"
      },
      "source": [
        "test_acc "
      ],
      "execution_count": 59,
      "outputs": [
        {
          "output_type": "execute_result",
          "data": {
            "text/plain": [
              "0.9830999970436096"
            ]
          },
          "metadata": {
            "tags": []
          },
          "execution_count": 59
        }
      ]
    },
    {
      "cell_type": "code",
      "metadata": {
        "id": "knfeH1Bgka0N",
        "colab": {
          "base_uri": "https://localhost:8080/",
          "height": 0
        },
        "outputId": "be0c5ba8-a67f-4ad9-fcd4-d354266ab1f1"
      },
      "source": [
        "hist = model.fit(trainX,trainy_one_hot, validation_data=(testX, testy_one_hot), epochs=3)"
      ],
      "execution_count": 60,
      "outputs": [
        {
          "output_type": "stream",
          "text": [
            "Epoch 1/3\n",
            "1875/1875 [==============================] - 150s 80ms/step - loss: 0.0764 - accuracy: 0.9765 - val_loss: 0.0528 - val_accuracy: 0.9835\n",
            "Epoch 2/3\n",
            "1875/1875 [==============================] - 149s 79ms/step - loss: 0.0465 - accuracy: 0.9855 - val_loss: 0.0405 - val_accuracy: 0.9870\n",
            "Epoch 3/3\n",
            "1875/1875 [==============================] - 148s 79ms/step - loss: 0.0354 - accuracy: 0.9888 - val_loss: 0.0440 - val_accuracy: 0.9851\n"
          ],
          "name": "stdout"
        }
      ]
    },
    {
      "cell_type": "code",
      "metadata": {
        "id": "FCzvMRcWka0O",
        "colab": {
          "base_uri": "https://localhost:8080/",
          "height": 294
        },
        "outputId": "794578a5-096b-4da2-d108-81897c697486"
      },
      "source": [
        "#visualization\r\n",
        "plt.plot(hist.history['accuracy'])\r\n",
        "plt.plot(hist.history['val_accuracy'])\r\n",
        "plt.title('Model Accutracy')\r\n",
        "plt.ylabel('Accuracy')\r\n",
        "plt.xlabel('Epoch')\r\n",
        "plt.legend(['Train', 'Val'],loc='upper left')\r\n",
        "plt.show()"
      ],
      "execution_count": 61,
      "outputs": [
        {
          "output_type": "display_data",
          "data": {
            "image/png": "[encoded data removed]",
            "text/plain": [
              "<Figure size 432x288 with 1 Axes>"
            ]
          },
          "metadata": {
            "tags": [],
            "needs_background": "light"
          }
        }
      ]
    },
    {
      "cell_type": "code",
      "metadata": {
        "id": "5_hlxpwNka0P",
        "colab": {
          "base_uri": "https://localhost:8080/",
          "height": 0
        },
        "outputId": "79377c44-4866-4237-e040-90b6fc9fcac9"
      },
      "source": [
        "#predictions as probabilites\r\n",
        "predictions = model.predict(testX[:5])\r\n",
        "predictions\r\n"
      ],
      "execution_count": 62,
      "outputs": [
        {
          "output_type": "execute_result",
          "data": {
            "text/plain": [
              "array([[1.2271948e-07, 3.9031597e-06, 1.6401085e-05, 2.3091505e-05,\n",
              "        5.4577345e-07, 1.3449908e-06, 3.4771347e-08, 9.9992621e-01,\n",
              "        2.4821561e-06, 2.5863035e-05],\n",
              "       [6.1826631e-06, 1.7209191e-04, 9.9977070e-01, 1.0344330e-05,\n",
              "        8.5154106e-06, 2.3223490e-06, 1.5093473e-05, 6.3364132e-06,\n",
              "        8.2472734e-06, 2.3616299e-07],\n",
              "       [9.8807178e-08, 9.9979872e-01, 1.1589873e-06, 7.5072154e-07,\n",
              "        2.6482010e-06, 7.1522231e-06, 1.4090797e-05, 8.9274356e-05,\n",
              "        8.2751867e-05, 3.4112188e-06],\n",
              "       [9.9906331e-01, 4.7005548e-07, 3.0178577e-05, 3.8719159e-06,\n",
              "        5.5884734e-06, 1.1805243e-04, 5.3220475e-04, 2.7941289e-06,\n",
              "        4.3877944e-06, 2.3914636e-04],\n",
              "       [5.3688780e-07, 3.3348795e-06, 8.9079037e-07, 2.1200765e-07,\n",
              "        9.9985731e-01, 2.9746678e-07, 1.0117029e-06, 1.5176124e-06,\n",
              "        1.8641119e-06, 1.3299004e-04]], dtype=float32)"
            ]
          },
          "metadata": {
            "tags": []
          },
          "execution_count": 62
        }
      ]
    },
    {
      "cell_type": "code",
      "metadata": {
        "id": "y2t3N0EXka0P",
        "colab": {
          "base_uri": "https://localhost:8080/",
          "height": 0
        },
        "outputId": "0e4335ff-7d91-4bbf-8a48-6b0750d98be8"
      },
      "source": [
        "#predictions as numbers labels\r\n",
        "import numpy as np\r\n",
        "print(np.argmax(predictions, axis=1))\r\n",
        "print(testy[:5])"
      ],
      "execution_count": 63,
      "outputs": [
        {
          "output_type": "stream",
          "text": [
            "[7 2 1 0 4]\n",
            "[7 2 1 0 4]\n"
          ],
          "name": "stdout"
        }
      ]
    },
    {
      "cell_type": "code",
      "metadata": {
        "id": "fCUgkRLSka0Q",
        "colab": {
          "base_uri": "https://localhost:8080/",
          "height": 1256
        },
        "outputId": "8864bb74-66e2-460e-c5c9-67e84a0d1c0c"
      },
      "source": [
        "#visualization as images\r\n",
        "for i in range(0,5):\r\n",
        " image = testX[i]\r\n",
        " image = np.array(image, dtype='float')\r\n",
        " pixels = image.reshape((28,28))\r\n",
        " plt.imshow(pixels, cmap = 'gray')\r\n",
        " plt.show()"
      ],
      "execution_count": 64,
      "outputs": [
        {
          "output_type": "display_data",
          "data": {
            "image/png": "[encoded data removed]",
            "text/plain": [
              "<Figure size 432x288 with 1 Axes>"
            ]
          },
          "metadata": {
            "tags": [],
            "needs_background": "light"
          }
        },
        {
          "output_type": "display_data",
          "data": {
            "image/png": "[encoded data removed]",
            "text/plain": [
              "<Figure size 432x288 with 1 Axes>"
            ]
          },
          "metadata": {
            "tags": [],
            "needs_background": "light"
          }
        },
        {
          "output_type": "display_data",
          "data": {
            "image/png": "[encoded data removed]",
            "text/plain": [
              "<Figure size 432x288 with 1 Axes>"
            ]
          },
          "metadata": {
            "tags": [],
            "needs_background": "light"
          }
        },
        {
          "output_type": "display_data",
          "data": {
            "image/png": "[encoded data removed]",
            "text/plain": [
              "<Figure size 432x288 with 1 Axes>"
            ]
          },
          "metadata": {
            "tags": [],
            "needs_background": "light"
          }
        },
        {
          "output_type": "display_data",
          "data": {
            "image/png": "[encoded data removed]",
            "text/plain": [
              "<Figure size 432x288 with 1 Axes>"
            ]
          },
          "metadata": {
            "tags": [],
            "needs_background": "light"
          }
        }
      ]
    }
  ]
}