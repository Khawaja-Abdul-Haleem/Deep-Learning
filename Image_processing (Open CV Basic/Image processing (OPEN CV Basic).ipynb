{
 "cells": [
  {
   "cell_type": "code",
   "execution_count": 2,
   "metadata": {},
   "outputs": [],
   "source": [
    "import cv2\n",
    "# if u want to intsall oprn cv write command in jupyter notebook\n",
    "# !pip install opencv-python\n",
    "import numpy as np"
   ]
  },
  {
   "cell_type": "code",
   "execution_count": 2,
   "metadata": {},
   "outputs": [],
   "source": [
    "path = r'C:\\Users\\Haier\\Desktop\\K.A.H\\img_1.jpg'"
   ]
  },
  {
   "cell_type": "code",
   "execution_count": 3,
   "metadata": {},
   "outputs": [],
   "source": [
    "img = cv2.imread(path)"
   ]
  },
  {
   "cell_type": "code",
   "execution_count": 4,
   "metadata": {},
   "outputs": [
    {
     "data": {
      "text/plain": [
       "array([[[255, 255, 255],\n",
       "        [255, 255, 255],\n",
       "        [255, 255, 255],\n",
       "        ...,\n",
       "        [255, 255, 255],\n",
       "        [255, 255, 255],\n",
       "        [255, 255, 255]],\n",
       "\n",
       "       [[255, 255, 255],\n",
       "        [255, 255, 255],\n",
       "        [255, 255, 255],\n",
       "        ...,\n",
       "        [255, 255, 255],\n",
       "        [255, 255, 255],\n",
       "        [255, 255, 255]],\n",
       "\n",
       "       [[255, 255, 255],\n",
       "        [255, 255, 255],\n",
       "        [255, 255, 255],\n",
       "        ...,\n",
       "        [255, 255, 255],\n",
       "        [255, 255, 255],\n",
       "        [255, 255, 255]],\n",
       "\n",
       "       ...,\n",
       "\n",
       "       [[255, 255, 255],\n",
       "        [255, 255, 255],\n",
       "        [255, 255, 255],\n",
       "        ...,\n",
       "        [255, 255, 255],\n",
       "        [255, 255, 255],\n",
       "        [255, 255, 255]],\n",
       "\n",
       "       [[255, 255, 255],\n",
       "        [255, 255, 255],\n",
       "        [255, 255, 255],\n",
       "        ...,\n",
       "        [255, 255, 255],\n",
       "        [255, 255, 255],\n",
       "        [255, 255, 255]],\n",
       "\n",
       "       [[255, 255, 255],\n",
       "        [255, 255, 255],\n",
       "        [255, 255, 255],\n",
       "        ...,\n",
       "        [255, 255, 255],\n",
       "        [255, 255, 255],\n",
       "        [255, 255, 255]]], dtype=uint8)"
      ]
     },
     "execution_count": 4,
     "metadata": {},
     "output_type": "execute_result"
    }
   ],
   "source": [
    "img"
   ]
  },
  {
   "cell_type": "code",
   "execution_count": 5,
   "metadata": {},
   "outputs": [],
   "source": [
    "cv2.imshow(\"KAH_image\", img)\n",
    "cv2.waitKey(0) # wait until we press any key otherwise it hanged\n",
    "cv2.destroyAllWindows() # close window"
   ]
  },
  {
   "cell_type": "code",
   "execution_count": 6,
   "metadata": {},
   "outputs": [],
   "source": [
    "# by default image's path is -1 but if we chabge ito zero it turn into greyscale and 1 is for rgb format\n",
    "img = cv2.imread(path, 0)"
   ]
  },
  {
   "cell_type": "code",
   "execution_count": 7,
   "metadata": {},
   "outputs": [],
   "source": [
    "cv2.imshow(\"KAH_image\", img)\n",
    "cv2.waitKey(0) # wait until we press any key otherwise it hanged\n",
    "cv2.destroyAllWindows() # close window\n",
    "# show image in greyscale"
   ]
  },
  {
   "cell_type": "code",
   "execution_count": 6,
   "metadata": {},
   "outputs": [
    {
     "data": {
      "text/plain": [
       "(3275, 2885, 3)"
      ]
     },
     "execution_count": 6,
     "metadata": {},
     "output_type": "execute_result"
    }
   ],
   "source": [
    "img.shape"
   ]
  },
  {
   "cell_type": "code",
   "execution_count": 7,
   "metadata": {},
   "outputs": [
    {
     "data": {
      "text/plain": [
       "28345125"
      ]
     },
     "execution_count": 7,
     "metadata": {},
     "output_type": "execute_result"
    }
   ],
   "source": [
    "img.size"
   ]
  },
  {
   "cell_type": "code",
   "execution_count": 8,
   "metadata": {},
   "outputs": [
    {
     "data": {
      "text/plain": [
       "3"
      ]
     },
     "execution_count": 8,
     "metadata": {},
     "output_type": "execute_result"
    }
   ],
   "source": [
    "img.ndim"
   ]
  },
  {
   "cell_type": "markdown",
   "metadata": {},
   "source": [
    "## Drawing line on Image"
   ]
  },
  {
   "cell_type": "code",
   "execution_count": 10,
   "metadata": {},
   "outputs": [],
   "source": [
    "img = np.ones((3275, 2885,3), np.uint8) # this will shows black bg\n",
    "cv2.imshow(\"KAH_image\", img)\n",
    "cv2.waitKey(0) # wait until we press any key otherwise it hanged\n",
    "cv2.destroyAllWindows() # close window"
   ]
  },
  {
   "cell_type": "code",
   "execution_count": 11,
   "metadata": {},
   "outputs": [],
   "source": [
    "# now we have to make it whiute cobvert each pixel to 255\n",
    "img = np.ones((3275, 2885,3), np.uint8)*255 \n",
    "cv2.imshow(\"KAH_image\", img)\n",
    "cv2.waitKey(0) # wait until we press any key otherwise it hanged\n",
    "cv2.destroyAllWindows() # close window"
   ]
  },
  {
   "cell_type": "markdown",
   "metadata": {},
   "source": [
    "## Color the image"
   ]
  },
  {
   "cell_type": "code",
   "execution_count": 12,
   "metadata": {},
   "outputs": [],
   "source": [
    "img = np.ones((512,512,3), np.uint8)*255 \n",
    "img[:] = (0,0,255) # red\n",
    "cv2.imshow(\"KAH_image\", img)\n",
    "cv2.waitKey(0) # wait until we press any key otherwise it hanged\n",
    "cv2.destroyAllWindows() # close window"
   ]
  },
  {
   "cell_type": "markdown",
   "metadata": {},
   "source": [
    "## Line On image"
   ]
  },
  {
   "cell_type": "code",
   "execution_count": 14,
   "metadata": {},
   "outputs": [],
   "source": [
    "img = np.ones((512,512,3), np.uint8)*255 \n",
    "#img[:] = (0,0,255) # red\n",
    "cv2.line(img,(25,300), (300,25), (120,80,50), 10)\n",
    "cv2.imshow(\"KAH_image\", img)\n",
    "cv2.waitKey(0) # wait until we press any key otherwise it hanged\n",
    "cv2.destroyAllWindows() # close window"
   ]
  },
  {
   "cell_type": "markdown",
   "metadata": {},
   "source": [
    "## Draw Rectangle "
   ]
  },
  {
   "cell_type": "code",
   "execution_count": 15,
   "metadata": {},
   "outputs": [],
   "source": [
    "img = np.ones((512,512,3), np.uint8)*255 \n",
    "#img[:] = (0,0,255) # red\n",
    "cv2.rectangle(img,(25,300), (300,25), (120,80,50), 10)\n",
    "cv2.imshow(\"KAH_image\", img)\n",
    "cv2.waitKey(0) # wait until we press any key otherwise it hanged\n",
    "cv2.destroyAllWindows() # close window"
   ]
  },
  {
   "cell_type": "markdown",
   "metadata": {},
   "source": [
    "## Draw Circle"
   ]
  },
  {
   "cell_type": "code",
   "execution_count": 19,
   "metadata": {},
   "outputs": [],
   "source": [
    "img = np.ones((512,512,3), np.uint8)*255 \n",
    "#img[:] = (0,0,255) # red\n",
    "cv2.circle(img,(250,250),100,(120,80,50),10)\n",
    "cv2.imshow(\"KAH_image\", img)\n",
    "cv2.waitKey(0) # wait until we press any key otherwise it hanged\n",
    "cv2.destroyAllWindows() # close window"
   ]
  },
  {
   "cell_type": "markdown",
   "metadata": {},
   "source": [
    "## Circle in circle"
   ]
  },
  {
   "cell_type": "code",
   "execution_count": 20,
   "metadata": {},
   "outputs": [],
   "source": [
    "img = np.ones((512,512,3), np.uint8)*255 \n",
    "#img[:] = (0,0,255) # red\n",
    "cv2.circle(img,(250,250),100,(120,80,50),10)\n",
    "cv2.circle(img,(250,250),50,(0,0,255),10)\n",
    "cv2.imshow(\"KAH_image\", img)\n",
    "cv2.waitKey(0) # wait until we press any key otherwise it hanged\n",
    "cv2.destroyAllWindows() # close window"
   ]
  },
  {
   "cell_type": "code",
   "execution_count": 10,
   "metadata": {},
   "outputs": [],
   "source": [
    "# colored circles (to fill color shape used -1)\n",
    "img = np.ones((512,512,3), np.uint8)*255 \n",
    "#img[:] = (0,0,255) # red\n",
    "cv2.circle(img,(250,250),100,(120,80,50),-1)\n",
    "cv2.circle(img,(250,250),50,(0,0,255),-1)\n",
    "cv2.imshow(\"KAH_image\", img)\n",
    "cv2.waitKey(0) # wait until we press any key otherwise it hanged\n",
    "cv2.destroyAllWindows() # close window"
   ]
  },
  {
   "cell_type": "markdown",
   "metadata": {},
   "source": [
    "## Draw Ellipse"
   ]
  },
  {
   "cell_type": "code",
   "execution_count": 12,
   "metadata": {},
   "outputs": [],
   "source": [
    "img = np.ones((512,512,3), np.uint8)*255 \n",
    "#img[:] = (0,0,255) # red\n",
    "cv2.ellipse(img,(250,250),(100, 40),0,0,360,(120,80,50),5)\n",
    "cv2.imshow(\"KAH_image\", img)\n",
    "cv2.waitKey(0) # wait until we press any key otherwise it hanged\n",
    "cv2.destroyAllWindows() # close window"
   ]
  },
  {
   "cell_type": "markdown",
   "metadata": {},
   "source": [
    "## Draw Polygon"
   ]
  },
  {
   "cell_type": "code",
   "execution_count": 17,
   "metadata": {},
   "outputs": [],
   "source": [
    "img = np.ones((512,512,3), np.uint8)*255 \n",
    "points = np.array([[200, 100], [400,2], [300,6]], np.int32) # triangle\n",
    "cv2.polylines(img,[points],True,(120,80,50),3)\n",
    "cv2.imshow(\"KAH_image\", img)\n",
    "cv2.waitKey(0) # wait until we press any key otherwise it hanged\n",
    "cv2.destroyAllWindows() # close window"
   ]
  },
  {
   "cell_type": "code",
   "execution_count": 20,
   "metadata": {},
   "outputs": [],
   "source": [
    "img = np.ones((512,512,3), np.uint8)*255 \n",
    "points = np.array([[200, 100], [400,2], [300,6], [500, 100]], np.int32) # triangle\n",
    "cv2.polylines(img,[points],False,(120,80,50),3)\n",
    "cv2.imshow(\"KAH_image\", img)\n",
    "cv2.waitKey(0) # wait until we press any key otherwise it hanged\n",
    "cv2.destroyAllWindows() # close window"
   ]
  },
  {
   "cell_type": "code",
   "execution_count": 21,
   "metadata": {},
   "outputs": [],
   "source": [
    "img = np.ones((512,512,3), np.uint8)*255 \n",
    "points = np.array([[200, 100], [400,2], [300,6], [500, 100]], np.int32) # triangle\n",
    "cv2.polylines(img,[points],True,(120,80,50),3)\n",
    "cv2.imshow(\"KAH_image\", img)\n",
    "cv2.waitKey(0) # wait until we press any key otherwise it hanged\n",
    "cv2.destroyAllWindows() # close window"
   ]
  },
  {
   "cell_type": "markdown",
   "metadata": {},
   "source": [
    "## Write text"
   ]
  },
  {
   "cell_type": "code",
   "execution_count": 3,
   "metadata": {},
   "outputs": [],
   "source": [
    "img = np.ones((512,512,3), np.uint8)*255 \n",
    "points = np.array([[200, 100], [400,2], [300,6], [500, 100]], np.int32) # triangle\n",
    "cv2.putText(img,'K.A.H',(50,200),cv2.FONT_HERSHEY_DUPLEX,3,(120,80,50))\n",
    "cv2.imshow(\"KAH_image\", img)\n",
    "cv2.waitKey(0) # wait until we press any key otherwise it hanged\n",
    "cv2.destroyAllWindows() # close window"
   ]
  },
  {
   "cell_type": "code",
   "execution_count": null,
   "metadata": {},
   "outputs": [],
   "source": []
  }
 ],
 "metadata": {
  "kernelspec": {
   "display_name": "Python 3",
   "language": "python",
   "name": "python3"
  },
  "language_info": {
   "codemirror_mode": {
    "name": "ipython",
    "version": 3
   },
   "file_extension": ".py",
   "mimetype": "text/x-python",
   "name": "python",
   "nbconvert_exporter": "python",
   "pygments_lexer": "ipython3",
   "version": "3.7.3"
  }
 },
 "nbformat": 4,
 "nbformat_minor": 4
}
