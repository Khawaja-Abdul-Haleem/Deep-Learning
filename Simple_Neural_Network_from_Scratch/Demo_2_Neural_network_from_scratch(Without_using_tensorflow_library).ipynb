{
  "nbformat": 4,
  "nbformat_minor": 0,
  "metadata": {
    "colab": {
      "name": "Demo_2 Neural_network_from_scratch(Without using tensorflow library).ipynb",
      "provenance": [],
      "collapsed_sections": []
    },
    "kernelspec": {
      "name": "python3",
      "display_name": "Python 3"
    }
  },
  "cells": [
    {
      "cell_type": "code",
      "metadata": {
        "id": "bfjiTa8BRV1S"
      },
      "source": [
        "import numpy as np"
      ],
      "execution_count": 1,
      "outputs": []
    },
    {
      "cell_type": "code",
      "metadata": {
        "id": "HvCYbfBoRirw"
      },
      "source": [
        "# Create activation Function (Sigmoid)\n",
        "def sigmoid(x):\n",
        "  return 1 / (1 +np.exp(-x))"
      ],
      "execution_count": 2,
      "outputs": []
    },
    {
      "cell_type": "code",
      "metadata": {
        "id": "Wf6lst2yRvmM",
        "outputId": "765463cc-6304-4ff4-c32f-4124d3549e38",
        "colab": {
          "base_uri": "https://localhost:8080/",
          "height": 90
        }
      },
      "source": [
        "training_inputs = np.array([[0,0,1], [1,1,1], [1,0,1], [0,1,1]])\n",
        "print(training_inputs) "
      ],
      "execution_count": 4,
      "outputs": [
        {
          "output_type": "stream",
          "text": [
            "[[0 0 1]\n",
            " [1 1 1]\n",
            " [1 0 1]\n",
            " [0 1 1]]\n"
          ],
          "name": "stdout"
        }
      ]
    },
    {
      "cell_type": "code",
      "metadata": {
        "id": "jSHQg0tFSL7k",
        "outputId": "84a8c165-4701-41ce-bc87-96589b459e99",
        "colab": {
          "base_uri": "https://localhost:8080/",
          "height": 90
        }
      },
      "source": [
        "training_outputs = np.array([[0],[1],[1],[0]])\n",
        "print(training_outputs)"
      ],
      "execution_count": 6,
      "outputs": [
        {
          "output_type": "stream",
          "text": [
            "[[0]\n",
            " [1]\n",
            " [1]\n",
            " [0]]\n"
          ],
          "name": "stdout"
        }
      ]
    },
    {
      "cell_type": "code",
      "metadata": {
        "id": "_Y-d7AzMSXzb",
        "outputId": "b2707f4c-afac-4471-8159-f8ef9dc56e25",
        "colab": {
          "base_uri": "https://localhost:8080/",
          "height": 72
        }
      },
      "source": [
        "# initialize weights for every inputs\n",
        "# random values\n",
        "np.random.seed(1)\n",
        "weights = 2 * np.random.random((3,1)) - 1 \n",
        "weights"
      ],
      "execution_count": 13,
      "outputs": [
        {
          "output_type": "execute_result",
          "data": {
            "text/plain": [
              "array([[-0.16595599],\n",
              "       [ 0.44064899],\n",
              "       [-0.99977125]])"
            ]
          },
          "metadata": {
            "tags": []
          },
          "execution_count": 13
        }
      ]
    },
    {
      "cell_type": "code",
      "metadata": {
        "id": "mCazR0t1StXN"
      },
      "source": [
        "# we pass input to activation function\n",
        "for i in range(1):\n",
        "  input_layer = training_inputs\n",
        "  outputs = sigmoid(np.dot(input_layer , weights)) "
      ],
      "execution_count": 14,
      "outputs": []
    },
    {
      "cell_type": "code",
      "metadata": {
        "id": "bxt-mzqFTxa0",
        "outputId": "c417828b-a673-4647-b0f8-9c3826670bf9",
        "colab": {
          "base_uri": "https://localhost:8080/",
          "height": 90
        }
      },
      "source": [
        "outputs"
      ],
      "execution_count": 15,
      "outputs": [
        {
          "output_type": "execute_result",
          "data": {
            "text/plain": [
              "array([[0.2689864 ],\n",
              "       [0.3262757 ],\n",
              "       [0.23762817],\n",
              "       [0.36375058]])"
            ]
          },
          "metadata": {
            "tags": []
          },
          "execution_count": 15
        }
      ]
    },
    {
      "cell_type": "code",
      "metadata": {
        "id": "p3jUOp_ITye2",
        "outputId": "337aec26-7947-42c3-cf35-6c49243a0617",
        "colab": {
          "base_uri": "https://localhost:8080/",
          "height": 90
        }
      },
      "source": [
        "outputs.round() # wrong output\n",
        "# now we have to train model by gradient descent"
      ],
      "execution_count": 19,
      "outputs": [
        {
          "output_type": "execute_result",
          "data": {
            "text/plain": [
              "array([[0.],\n",
              "       [0.],\n",
              "       [0.],\n",
              "       [0.]])"
            ]
          },
          "metadata": {
            "tags": []
          },
          "execution_count": 19
        }
      ]
    },
    {
      "cell_type": "code",
      "metadata": {
        "id": "eFhJ0mYsT3Wy"
      },
      "source": [
        "def sigmoid_derivative(x):\n",
        "  return x*(1-x)"
      ],
      "execution_count": 20,
      "outputs": []
    },
    {
      "cell_type": "code",
      "metadata": {
        "id": "OLXjnZOiUS_P"
      },
      "source": [
        "for i in range(1000):\n",
        "  input_layer = training_inputs\n",
        "  outputs = sigmoid(np.dot(input_layer , weights)) \n",
        "  error = training_outputs - outputs # to find errors\n",
        "  adjustments = error * sigmoid_derivative(outputs) # how much change we have to do\n",
        "  weights += np.dot(input_layer.T, adjustments) # we have different shapes of both so we have to transpose\n"
      ],
      "execution_count": 23,
      "outputs": []
    },
    {
      "cell_type": "code",
      "metadata": {
        "id": "GOef9lapVD1o",
        "outputId": "0254df4e-65ed-4ed6-dae9-190a69e07fee",
        "colab": {
          "base_uri": "https://localhost:8080/",
          "height": 72
        }
      },
      "source": [
        "weights"
      ],
      "execution_count": 24,
      "outputs": [
        {
          "output_type": "execute_result",
          "data": {
            "text/plain": [
              "array([[ 7.26390912],\n",
              "       [-0.21614179],\n",
              "       [-3.41757429]])"
            ]
          },
          "metadata": {
            "tags": []
          },
          "execution_count": 24
        }
      ]
    },
    {
      "cell_type": "code",
      "metadata": {
        "id": "6_sFOeb4VFLt",
        "outputId": "dfdc165d-1758-4058-b900-c073829e3580",
        "colab": {
          "base_uri": "https://localhost:8080/",
          "height": 90
        }
      },
      "source": [
        "outputs"
      ],
      "execution_count": 25,
      "outputs": [
        {
          "output_type": "execute_result",
          "data": {
            "text/plain": [
              "array([[0.03176745],\n",
              "       [0.97416005],\n",
              "       [0.97907779],\n",
              "       [0.02575143]])"
            ]
          },
          "metadata": {
            "tags": []
          },
          "execution_count": 25
        }
      ]
    },
    {
      "cell_type": "code",
      "metadata": {
        "id": "8OKMAuP6VOl1",
        "outputId": "27bc8ce6-8c90-4523-9a39-64d3e4212f16",
        "colab": {
          "base_uri": "https://localhost:8080/",
          "height": 90
        }
      },
      "source": [
        "outputs.round() # Now we have correct output"
      ],
      "execution_count": 27,
      "outputs": [
        {
          "output_type": "execute_result",
          "data": {
            "text/plain": [
              "array([[0.],\n",
              "       [1.],\n",
              "       [1.],\n",
              "       [0.]])"
            ]
          },
          "metadata": {
            "tags": []
          },
          "execution_count": 27
        }
      ]
    },
    {
      "cell_type": "code",
      "metadata": {
        "id": "Q5oUvrg-VQM7"
      },
      "source": [
        ""
      ],
      "execution_count": null,
      "outputs": []
    }
  ]
}