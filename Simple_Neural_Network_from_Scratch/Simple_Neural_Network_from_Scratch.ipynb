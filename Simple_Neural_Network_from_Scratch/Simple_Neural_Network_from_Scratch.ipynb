{
  "nbformat": 4,
  "nbformat_minor": 0,
  "metadata": {
    "colab": {
      "name": "Simple_Neural_Network_from_Scratch.ipynb",
      "provenance": [],
      "collapsed_sections": []
    },
    "kernelspec": {
      "name": "python3",
      "display_name": "Python 3"
    }
  },
  "cells": [
    {
      "cell_type": "code",
      "metadata": {
        "id": "es5Ic3lo7cBj",
        "colab_type": "code",
        "colab": {}
      },
      "source": [
        "import numpy as np"
      ],
      "execution_count": 1,
      "outputs": []
    },
    {
      "cell_type": "code",
      "metadata": {
        "id": "2648NEip7lrG",
        "colab_type": "code",
        "colab": {}
      },
      "source": [
        "input_samples = np.array([[0,1,0], [1,0,1], [0,0,1], [1,1,0]])\n",
        "output_samples = np.array([[0], [1], [0], [1]])"
      ],
      "execution_count": 2,
      "outputs": []
    },
    {
      "cell_type": "code",
      "metadata": {
        "id": "d0kuAhKo7_L8",
        "colab_type": "code",
        "colab": {
          "base_uri": "https://localhost:8080/",
          "height": 90
        },
        "outputId": "24a5dbae-b2a2-496b-e4a9-41f8eae443ce"
      },
      "source": [
        "input_samples\n"
      ],
      "execution_count": 3,
      "outputs": [
        {
          "output_type": "execute_result",
          "data": {
            "text/plain": [
              "array([[0, 1, 0],\n",
              "       [1, 0, 1],\n",
              "       [0, 0, 1],\n",
              "       [1, 1, 0]])"
            ]
          },
          "metadata": {
            "tags": []
          },
          "execution_count": 3
        }
      ]
    },
    {
      "cell_type": "code",
      "metadata": {
        "id": "FnaZ98ZI8BJj",
        "colab_type": "code",
        "colab": {
          "base_uri": "https://localhost:8080/",
          "height": 90
        },
        "outputId": "b7af1a58-bf7a-4ef9-c71a-f16236709375"
      },
      "source": [
        "output_samples"
      ],
      "execution_count": 4,
      "outputs": [
        {
          "output_type": "execute_result",
          "data": {
            "text/plain": [
              "array([[0],\n",
              "       [1],\n",
              "       [0],\n",
              "       [1]])"
            ]
          },
          "metadata": {
            "tags": []
          },
          "execution_count": 4
        }
      ]
    },
    {
      "cell_type": "code",
      "metadata": {
        "id": "9fnXBmIr8CGD",
        "colab_type": "code",
        "colab": {
          "base_uri": "https://localhost:8080/",
          "height": 72
        },
        "outputId": "9b89e5e4-5c4a-4955-bcd0-f97f52e4a663"
      },
      "source": [
        "weights = np.random.random((3,1))\n",
        "weights"
      ],
      "execution_count": 5,
      "outputs": [
        {
          "output_type": "execute_result",
          "data": {
            "text/plain": [
              "array([[0.91405019],\n",
              "       [0.67208228],\n",
              "       [0.82552935]])"
            ]
          },
          "metadata": {
            "tags": []
          },
          "execution_count": 5
        }
      ]
    },
    {
      "cell_type": "code",
      "metadata": {
        "id": "ZnxDJwOJ8Og2",
        "colab_type": "code",
        "colab": {
          "base_uri": "https://localhost:8080/",
          "height": 90
        },
        "outputId": "d9fa4766-361f-416e-b2ce-f28ecc0b7a31"
      },
      "source": [
        "sum = np.dot(input_samples, weights) + 0.02 ## 0.02 is bias\n",
        "sum"
      ],
      "execution_count": 6,
      "outputs": [
        {
          "output_type": "execute_result",
          "data": {
            "text/plain": [
              "array([[0.69208228],\n",
              "       [1.75957954],\n",
              "       [0.84552935],\n",
              "       [1.60613247]])"
            ]
          },
          "metadata": {
            "tags": []
          },
          "execution_count": 6
        }
      ]
    },
    {
      "cell_type": "code",
      "metadata": {
        "id": "ZRKACXGJ8f9G",
        "colab_type": "code",
        "colab": {}
      },
      "source": [
        "# Create The Activateion Function   (SIGMOID)\n",
        "def activation(x):\n",
        "  return 1 / (1 + np.exp(-x)) # Formula of Sigmoid"
      ],
      "execution_count": 7,
      "outputs": []
    },
    {
      "cell_type": "code",
      "metadata": {
        "id": "EksRgd9088w8",
        "colab_type": "code",
        "colab": {
          "base_uri": "https://localhost:8080/",
          "height": 90
        },
        "outputId": "d81ff6dc-f93d-4335-b195-a97b29a86191"
      },
      "source": [
        "ypred = activation(sum)\n",
        "ypred"
      ],
      "execution_count": 8,
      "outputs": [
        {
          "output_type": "execute_result",
          "data": {
            "text/plain": [
              "array([[0.66642998],\n",
              "       [0.85315699],\n",
              "       [0.69962848],\n",
              "       [0.83287374]])"
            ]
          },
          "metadata": {
            "tags": []
          },
          "execution_count": 8
        }
      ]
    },
    {
      "cell_type": "code",
      "metadata": {
        "id": "L8eMWIjq9E7X",
        "colab_type": "code",
        "colab": {
          "base_uri": "https://localhost:8080/",
          "height": 90
        },
        "outputId": "9f03bf5a-e2df-4682-8f7b-5aa53c206bb4"
      },
      "source": [
        "# So the Output Above is [1][1][1][1] but we expected [0][1][0][1]\n",
        "# Now we have to train the data\n",
        "\n",
        "sum = np.dot(input_samples, weights) + 0.02 ## 0.02 is bias\n",
        "ypred = activation(sum)\n",
        "error = output_samples - ypred # actual - predicted\n",
        "error"
      ],
      "execution_count": 10,
      "outputs": [
        {
          "output_type": "execute_result",
          "data": {
            "text/plain": [
              "array([[-0.66642998],\n",
              "       [ 0.14684301],\n",
              "       [-0.69962848],\n",
              "       [ 0.16712626]])"
            ]
          },
          "metadata": {
            "tags": []
          },
          "execution_count": 10
        }
      ]
    },
    {
      "cell_type": "code",
      "metadata": {
        "colab_type": "code",
        "id": "JsLWsaC99hST",
        "colab": {}
      },
      "source": [
        "def gradient(x):\n",
        "  return x * (1-x) # Derivative of sigmoid"
      ],
      "execution_count": 11,
      "outputs": []
    },
    {
      "cell_type": "code",
      "metadata": {
        "colab_type": "code",
        "id": "az4OYSSw9f-x",
        "colab": {
          "base_uri": "https://localhost:8080/",
          "height": 262
        },
        "outputId": "ab46ebcd-bd0d-4a09-9245-536ee9a3bcde"
      },
      "source": [
        "sum = np.dot(input_samples, weights) + 0.02 ## 0.02 is bias\n",
        "ypred = activation(sum)\n",
        "error = output_samples - ypred # actual - predicted\n",
        "# Apply Gradient Descent\n",
        "adjustment = error * gradient(ypred)  \n",
        "# Apply Back Propagation\n",
        "weights =  weights + np.dot(input_samples, adjustment)\n",
        "error"
      ],
      "execution_count": 12,
      "outputs": [
        {
          "output_type": "error",
          "ename": "ValueError",
          "evalue": "ignored",
          "traceback": [
            "\u001b[0;31m---------------------------------------------------------------------------\u001b[0m",
            "\u001b[0;31mValueError\u001b[0m                                Traceback (most recent call last)",
            "\u001b[0;32m<ipython-input-12-9ec6a3c47c10>\u001b[0m in \u001b[0;36m<module>\u001b[0;34m()\u001b[0m\n\u001b[1;32m      5\u001b[0m \u001b[0madjustment\u001b[0m \u001b[0;34m=\u001b[0m \u001b[0merror\u001b[0m \u001b[0;34m*\u001b[0m \u001b[0mgradient\u001b[0m\u001b[0;34m(\u001b[0m\u001b[0mypred\u001b[0m\u001b[0;34m)\u001b[0m\u001b[0;34m\u001b[0m\u001b[0;34m\u001b[0m\u001b[0m\n\u001b[1;32m      6\u001b[0m \u001b[0;31m# Apply Back Propagation\u001b[0m\u001b[0;34m\u001b[0m\u001b[0;34m\u001b[0m\u001b[0;34m\u001b[0m\u001b[0m\n\u001b[0;32m----> 7\u001b[0;31m \u001b[0mweights\u001b[0m \u001b[0;34m=\u001b[0m  \u001b[0mweights\u001b[0m \u001b[0;34m+\u001b[0m \u001b[0mnp\u001b[0m\u001b[0;34m.\u001b[0m\u001b[0mdot\u001b[0m\u001b[0;34m(\u001b[0m\u001b[0minput_samples\u001b[0m\u001b[0;34m,\u001b[0m \u001b[0madjustment\u001b[0m\u001b[0;34m)\u001b[0m\u001b[0;34m\u001b[0m\u001b[0;34m\u001b[0m\u001b[0m\n\u001b[0m\u001b[1;32m      8\u001b[0m \u001b[0merror\u001b[0m\u001b[0;34m\u001b[0m\u001b[0;34m\u001b[0m\u001b[0m\n",
            "\u001b[0;32m<__array_function__ internals>\u001b[0m in \u001b[0;36mdot\u001b[0;34m(*args, **kwargs)\u001b[0m\n",
            "\u001b[0;31mValueError\u001b[0m: shapes (4,3) and (4,1) not aligned: 3 (dim 1) != 4 (dim 0)"
          ]
        }
      ]
    },
    {
      "cell_type": "code",
      "metadata": {
        "id": "GCg8LtNk_gd4",
        "colab_type": "code",
        "colab": {
          "base_uri": "https://localhost:8080/",
          "height": 35
        },
        "outputId": "193a75c6-d88f-4314-a182-227e88224e2f"
      },
      "source": [
        "# Above error comes beacuse we r using different shapes\n",
        "# so we take transpose to remove this error\n",
        "\n",
        "input_samples.shape"
      ],
      "execution_count": 13,
      "outputs": [
        {
          "output_type": "execute_result",
          "data": {
            "text/plain": [
              "(4, 3)"
            ]
          },
          "metadata": {
            "tags": []
          },
          "execution_count": 13
        }
      ]
    },
    {
      "cell_type": "code",
      "metadata": {
        "id": "8Mo3_qo__yKS",
        "colab_type": "code",
        "colab": {
          "base_uri": "https://localhost:8080/",
          "height": 35
        },
        "outputId": "00b96bb5-ed74-40d8-b80a-bd060ee91400"
      },
      "source": [
        "input_samples.T.shape"
      ],
      "execution_count": 15,
      "outputs": [
        {
          "output_type": "execute_result",
          "data": {
            "text/plain": [
              "(3, 4)"
            ]
          },
          "metadata": {
            "tags": []
          },
          "execution_count": 15
        }
      ]
    },
    {
      "cell_type": "code",
      "metadata": {
        "id": "1qtnhFGl_0fx",
        "colab_type": "code",
        "colab": {
          "base_uri": "https://localhost:8080/",
          "height": 90
        },
        "outputId": "f091d289-af8b-4ffa-d105-c80806c8769a"
      },
      "source": [
        "sum = np.dot(input_samples, weights) + 0.02 ## 0.02 is bias\n",
        "ypred = activation(sum)\n",
        "error = output_samples - ypred # actual - predicted\n",
        "# Apply Gradient Descent\n",
        "adjustment = error * gradient(ypred)  \n",
        "# Apply Back Propagation\n",
        "weights =  weights + np.dot(input_samples.T, adjustment)\n",
        "error"
      ],
      "execution_count": 16,
      "outputs": [
        {
          "output_type": "execute_result",
          "data": {
            "text/plain": [
              "array([[-0.66642998],\n",
              "       [ 0.14684301],\n",
              "       [-0.69962848],\n",
              "       [ 0.16712626]])"
            ]
          },
          "metadata": {
            "tags": []
          },
          "execution_count": 16
        }
      ]
    },
    {
      "cell_type": "code",
      "metadata": {
        "id": "hTeQYDdDACLp",
        "colab_type": "code",
        "colab": {}
      },
      "source": [
        "# So, when when we run above cell,if it dont reduce the size near to zero ,and not display correct output\n",
        "# then we take loop and run that cell according to correct output\n",
        "\n",
        "for i in range(1):\n",
        "  sum = np.dot(input_samples, weights) + 0.02 ## 0.02 is bias\n",
        "  ypred = activation(sum)\n",
        "  error = output_samples - ypred # actual - predicted\n",
        "  # Apply Gradient Descent\n",
        "  adjustment = error * gradient(ypred)  \n",
        "  # Apply Back Propagation\n",
        "  weights =  weights + np.dot(input_samples.T, adjustment)\n",
        "error"
      ],
      "execution_count": null,
      "outputs": []
    },
    {
      "cell_type": "code",
      "metadata": {
        "id": "ML0_q_y9AWJI",
        "colab_type": "code",
        "colab": {
          "base_uri": "https://localhost:8080/",
          "height": 72
        },
        "outputId": "5a2ccef6-2507-49fe-e765-75d4da5d89a0"
      },
      "source": [
        "weights"
      ],
      "execution_count": 23,
      "outputs": [
        {
          "output_type": "execute_result",
          "data": {
            "text/plain": [
              "array([[ 7.13662129],\n",
              "       [-3.40639957],\n",
              "       [-3.40639952]])"
            ]
          },
          "metadata": {
            "tags": []
          },
          "execution_count": 23
        }
      ]
    },
    {
      "cell_type": "code",
      "metadata": {
        "id": "WfUiExpsBDS3",
        "colab_type": "code",
        "colab": {
          "base_uri": "https://localhost:8080/",
          "height": 90
        },
        "outputId": "7aea22ef-e46e-49e6-d42e-dca3524f254e"
      },
      "source": [
        "ypred # Now, You can see that, output is correct [0][1][0][1]"
      ],
      "execution_count": 24,
      "outputs": [
        {
          "output_type": "execute_result",
          "data": {
            "text/plain": [
              "array([[0.03273971],\n",
              "       [0.97701612],\n",
              "       [0.03273971],\n",
              "       [0.97701612]])"
            ]
          },
          "metadata": {
            "tags": []
          },
          "execution_count": 24
        }
      ]
    },
    {
      "cell_type": "code",
      "metadata": {
        "id": "MJ3sk7HcBH0s",
        "colab_type": "code",
        "colab": {
          "base_uri": "https://localhost:8080/",
          "height": 90
        },
        "outputId": "d7c597a8-3291-4598-d757-f77fc15787c1"
      },
      "source": [
        "ypred.round()\n"
      ],
      "execution_count": 25,
      "outputs": [
        {
          "output_type": "execute_result",
          "data": {
            "text/plain": [
              "array([[0.],\n",
              "       [1.],\n",
              "       [0.],\n",
              "       [1.]])"
            ]
          },
          "metadata": {
            "tags": []
          },
          "execution_count": 25
        }
      ]
    },
    {
      "cell_type": "code",
      "metadata": {
        "id": "5CW9RqYsBhPn",
        "colab_type": "code",
        "colab": {
          "base_uri": "https://localhost:8080/",
          "height": 54
        },
        "outputId": "125da30c-eef8-4e5b-aed7-5c0f83a8b079"
      },
      "source": [
        "# NOW Recheck,that how we accurate train \n",
        "\n",
        "new_samples = np.array([[1,1,1], [0,0,0]])\n",
        "sum = np.dot(new_samples, weights) + 0.02 ## 0.02 is bias\n",
        "ypred = activation(sum)\n",
        "ypred"
      ],
      "execution_count": 30,
      "outputs": [
        {
          "output_type": "execute_result",
          "data": {
            "text/plain": [
              "array([[0.58511868],\n",
              "       [0.50499983]])"
            ]
          },
          "metadata": {
            "tags": []
          },
          "execution_count": 30
        }
      ]
    },
    {
      "cell_type": "code",
      "metadata": {
        "id": "6-_toHckCaPs",
        "colab_type": "code",
        "colab": {
          "base_uri": "https://localhost:8080/",
          "height": 54
        },
        "outputId": "0384062d-1ec3-4629-e588-4b081b1d5da3"
      },
      "source": [
        "ypred.round()"
      ],
      "execution_count": 31,
      "outputs": [
        {
          "output_type": "execute_result",
          "data": {
            "text/plain": [
              "array([[1.],\n",
              "       [1.]])"
            ]
          },
          "metadata": {
            "tags": []
          },
          "execution_count": 31
        }
      ]
    },
    {
      "cell_type": "code",
      "metadata": {
        "id": "YQSLCBcWCreK",
        "colab_type": "code",
        "colab": {}
      },
      "source": [
        "# The above input sample is just an ideal data, but the main purpose is to tell how model willbe train\n",
        "# And when this model will be trained, then it provide output according what it trained "
      ],
      "execution_count": null,
      "outputs": []
    }
  ]
}